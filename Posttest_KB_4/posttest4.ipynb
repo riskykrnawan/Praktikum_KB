{
  "cells": [
    {
      "cell_type": "code",
      "execution_count": 43,
      "metadata": {
        "id": "DmHvsLuph_EX"
      },
      "outputs": [],
      "source": [
        "import pandas as pd\n",
        "import numpy as np\n",
        "\n",
        "import sklearn\n",
        "\n",
        "# data splitting train dan test\n",
        "from sklearn.model_selection import train_test_split\n",
        "# normalisasi\n",
        "from sklearn.preprocessing import MinMaxScaler\n",
        "# standarisasi\n",
        "from sklearn.preprocessing import StandardScaler\n",
        "# Imputer untuk data cleaning, \n",
        "from sklearn.impute import SimpleImputer\n",
        "# untuk encoding\n",
        "from sklearn.preprocessing import OneHotEncoder"
      ]
    },
    {
      "cell_type": "code",
      "execution_count": 44,
      "metadata": {
        "colab": {
          "base_uri": "https://localhost:8080/",
          "height": 206
        },
        "id": "_MKcvtBwjGcP",
        "outputId": "d6406e84-12d4-4a8b-b2aa-59d8408aa7de"
      },
      "outputs": [
        {
          "data": {
            "text/html": [
              "\n",
              "  <div id=\"df-1a77bad5-f9ac-4a65-8907-5d76766e27b0\">\n",
              "    <div class=\"colab-df-container\">\n",
              "      <div>\n",
              "<style scoped>\n",
              "    .dataframe tbody tr th:only-of-type {\n",
              "        vertical-align: middle;\n",
              "    }\n",
              "\n",
              "    .dataframe tbody tr th {\n",
              "        vertical-align: top;\n",
              "    }\n",
              "\n",
              "    .dataframe thead th {\n",
              "        text-align: right;\n",
              "    }\n",
              "</style>\n",
              "<table border=\"1\" class=\"dataframe\">\n",
              "  <thead>\n",
              "    <tr style=\"text-align: right;\">\n",
              "      <th></th>\n",
              "      <th>avg_monthly_hrs</th>\n",
              "      <th>department</th>\n",
              "      <th>filed_complaint</th>\n",
              "      <th>last_evaluation</th>\n",
              "      <th>n_projects</th>\n",
              "      <th>recently_promoted</th>\n",
              "      <th>salary</th>\n",
              "      <th>satisfaction</th>\n",
              "      <th>status</th>\n",
              "      <th>tenure</th>\n",
              "    </tr>\n",
              "  </thead>\n",
              "  <tbody>\n",
              "    <tr>\n",
              "      <th>0</th>\n",
              "      <td>221.0</td>\n",
              "      <td>engineering</td>\n",
              "      <td>NaN</td>\n",
              "      <td>0.932868</td>\n",
              "      <td>4.0</td>\n",
              "      <td>NaN</td>\n",
              "      <td>low</td>\n",
              "      <td>0.829896</td>\n",
              "      <td>Left</td>\n",
              "      <td>5.0</td>\n",
              "    </tr>\n",
              "    <tr>\n",
              "      <th>1</th>\n",
              "      <td>232.0</td>\n",
              "      <td>support</td>\n",
              "      <td>NaN</td>\n",
              "      <td>NaN</td>\n",
              "      <td>NaN</td>\n",
              "      <td>NaN</td>\n",
              "      <td>low</td>\n",
              "      <td>0.834544</td>\n",
              "      <td>Employed</td>\n",
              "      <td>2.0</td>\n",
              "    </tr>\n",
              "    <tr>\n",
              "      <th>2</th>\n",
              "      <td>184.0</td>\n",
              "      <td>sales</td>\n",
              "      <td>NaN</td>\n",
              "      <td>0.788830</td>\n",
              "      <td>3.0</td>\n",
              "      <td>NaN</td>\n",
              "      <td>medium</td>\n",
              "      <td>0.834988</td>\n",
              "      <td>Employed</td>\n",
              "      <td>3.0</td>\n",
              "    </tr>\n",
              "    <tr>\n",
              "      <th>3</th>\n",
              "      <td>206.0</td>\n",
              "      <td>sales</td>\n",
              "      <td>NaN</td>\n",
              "      <td>0.575688</td>\n",
              "      <td>4.0</td>\n",
              "      <td>NaN</td>\n",
              "      <td>low</td>\n",
              "      <td>0.424764</td>\n",
              "      <td>Employed</td>\n",
              "      <td>2.0</td>\n",
              "    </tr>\n",
              "    <tr>\n",
              "      <th>4</th>\n",
              "      <td>249.0</td>\n",
              "      <td>sales</td>\n",
              "      <td>NaN</td>\n",
              "      <td>0.845217</td>\n",
              "      <td>3.0</td>\n",
              "      <td>NaN</td>\n",
              "      <td>low</td>\n",
              "      <td>0.779043</td>\n",
              "      <td>Employed</td>\n",
              "      <td>3.0</td>\n",
              "    </tr>\n",
              "  </tbody>\n",
              "</table>\n",
              "</div>\n",
              "      <button class=\"colab-df-convert\" onclick=\"convertToInteractive('df-1a77bad5-f9ac-4a65-8907-5d76766e27b0')\"\n",
              "              title=\"Convert this dataframe to an interactive table.\"\n",
              "              style=\"display:none;\">\n",
              "        \n",
              "  <svg xmlns=\"http://www.w3.org/2000/svg\" height=\"24px\"viewBox=\"0 0 24 24\"\n",
              "       width=\"24px\">\n",
              "    <path d=\"M0 0h24v24H0V0z\" fill=\"none\"/>\n",
              "    <path d=\"M18.56 5.44l.94 2.06.94-2.06 2.06-.94-2.06-.94-.94-2.06-.94 2.06-2.06.94zm-11 1L8.5 8.5l.94-2.06 2.06-.94-2.06-.94L8.5 2.5l-.94 2.06-2.06.94zm10 10l.94 2.06.94-2.06 2.06-.94-2.06-.94-.94-2.06-.94 2.06-2.06.94z\"/><path d=\"M17.41 7.96l-1.37-1.37c-.4-.4-.92-.59-1.43-.59-.52 0-1.04.2-1.43.59L10.3 9.45l-7.72 7.72c-.78.78-.78 2.05 0 2.83L4 21.41c.39.39.9.59 1.41.59.51 0 1.02-.2 1.41-.59l7.78-7.78 2.81-2.81c.8-.78.8-2.07 0-2.86zM5.41 20L4 18.59l7.72-7.72 1.47 1.35L5.41 20z\"/>\n",
              "  </svg>\n",
              "      </button>\n",
              "      \n",
              "  <style>\n",
              "    .colab-df-container {\n",
              "      display:flex;\n",
              "      flex-wrap:wrap;\n",
              "      gap: 12px;\n",
              "    }\n",
              "\n",
              "    .colab-df-convert {\n",
              "      background-color: #E8F0FE;\n",
              "      border: none;\n",
              "      border-radius: 50%;\n",
              "      cursor: pointer;\n",
              "      display: none;\n",
              "      fill: #1967D2;\n",
              "      height: 32px;\n",
              "      padding: 0 0 0 0;\n",
              "      width: 32px;\n",
              "    }\n",
              "\n",
              "    .colab-df-convert:hover {\n",
              "      background-color: #E2EBFA;\n",
              "      box-shadow: 0px 1px 2px rgba(60, 64, 67, 0.3), 0px 1px 3px 1px rgba(60, 64, 67, 0.15);\n",
              "      fill: #174EA6;\n",
              "    }\n",
              "\n",
              "    [theme=dark] .colab-df-convert {\n",
              "      background-color: #3B4455;\n",
              "      fill: #D2E3FC;\n",
              "    }\n",
              "\n",
              "    [theme=dark] .colab-df-convert:hover {\n",
              "      background-color: #434B5C;\n",
              "      box-shadow: 0px 1px 3px 1px rgba(0, 0, 0, 0.15);\n",
              "      filter: drop-shadow(0px 1px 2px rgba(0, 0, 0, 0.3));\n",
              "      fill: #FFFFFF;\n",
              "    }\n",
              "  </style>\n",
              "\n",
              "      <script>\n",
              "        const buttonEl =\n",
              "          document.querySelector('#df-1a77bad5-f9ac-4a65-8907-5d76766e27b0 button.colab-df-convert');\n",
              "        buttonEl.style.display =\n",
              "          google.colab.kernel.accessAllowed ? 'block' : 'none';\n",
              "\n",
              "        async function convertToInteractive(key) {\n",
              "          const element = document.querySelector('#df-1a77bad5-f9ac-4a65-8907-5d76766e27b0');\n",
              "          const dataTable =\n",
              "            await google.colab.kernel.invokeFunction('convertToInteractive',\n",
              "                                                     [key], {});\n",
              "          if (!dataTable) return;\n",
              "\n",
              "          const docLinkHtml = 'Like what you see? Visit the ' +\n",
              "            '<a target=\"_blank\" href=https://colab.research.google.com/notebooks/data_table.ipynb>data table notebook</a>'\n",
              "            + ' to learn more about interactive tables.';\n",
              "          element.innerHTML = '';\n",
              "          dataTable['output_type'] = 'display_data';\n",
              "          await google.colab.output.renderOutput(dataTable, element);\n",
              "          const docLink = document.createElement('div');\n",
              "          docLink.innerHTML = docLinkHtml;\n",
              "          element.appendChild(docLink);\n",
              "        }\n",
              "      </script>\n",
              "    </div>\n",
              "  </div>\n",
              "  "
            ],
            "text/plain": [
              "   avg_monthly_hrs   department  filed_complaint  last_evaluation  n_projects  \\\n",
              "0            221.0  engineering              NaN         0.932868         4.0   \n",
              "1            232.0      support              NaN              NaN         NaN   \n",
              "2            184.0        sales              NaN         0.788830         3.0   \n",
              "3            206.0        sales              NaN         0.575688         4.0   \n",
              "4            249.0        sales              NaN         0.845217         3.0   \n",
              "\n",
              "   recently_promoted  salary  satisfaction    status  tenure  \n",
              "0                NaN     low      0.829896      Left     5.0  \n",
              "1                NaN     low      0.834544  Employed     2.0  \n",
              "2                NaN  medium      0.834988  Employed     3.0  \n",
              "3                NaN     low      0.424764  Employed     2.0  \n",
              "4                NaN     low      0.779043  Employed     3.0  "
            ]
          },
          "execution_count": 44,
          "metadata": {},
          "output_type": "execute_result"
        }
      ],
      "source": [
        "df = pd.read_csv('employee_data.csv')\n",
        "df.head()"
      ]
    },
    {
      "cell_type": "markdown",
      "metadata": {
        "id": "SJcFzNhheE3e"
      },
      "source": [
        "### Data Split"
      ]
    },
    {
      "cell_type": "markdown",
      "metadata": {
        "id": "j-DgK4amdHzI"
      },
      "source": [
        "Sebelum mensplit data, Tentukan x dan y.\n",
        "\n",
        "- x merupakan data frame tanpa label.\n",
        "- y adalah labelnya."
      ]
    },
    {
      "cell_type": "code",
      "execution_count": 45,
      "metadata": {
        "colab": {
          "base_uri": "https://localhost:8080/"
        },
        "id": "QPbEEVPmjf7u",
        "outputId": "70ec2447-dc4e-458b-e4fb-fea7beef9c05"
      },
      "outputs": [
        {
          "name": "stderr",
          "output_type": "stream",
          "text": [
            "/usr/local/lib/python3.7/dist-packages/ipykernel_launcher.py:1: FutureWarning: In a future version of pandas all arguments of DataFrame.drop except for the argument 'labels' will be keyword-only\n",
            "  \"\"\"Entry point for launching an IPython kernel.\n"
          ]
        }
      ],
      "source": [
        "x = df.drop('status', 1)\n",
        "y = df.status"
      ]
    },
    {
      "cell_type": "markdown",
      "metadata": {
        "id": "JP3E_Apy6Mhz"
      },
      "source": [
        "Data Splitting test nya 30% dari total dataset"
      ]
    },
    {
      "cell_type": "code",
      "execution_count": 46,
      "metadata": {
        "id": "tBfpiZzIkRHv"
      },
      "outputs": [],
      "source": [
        "x_train, x_test, y_train, y_test = train_test_split(x, y, test_size=0.3)"
      ]
    },
    {
      "cell_type": "code",
      "execution_count": 47,
      "metadata": {
        "colab": {
          "base_uri": "https://localhost:8080/"
        },
        "id": "2RMIo_FgkmoL",
        "outputId": "c47899c0-e73d-4ab8-f40d-d6b1a45a8973"
      },
      "outputs": [
        {
          "name": "stdout",
          "output_type": "stream",
          "text": [
            "4275\n",
            "9974\n"
          ]
        }
      ],
      "source": [
        "# menghitung panjang/jumlah data pada x_test\n",
        "print(len(x_test))\n",
        "print(len(x_train))"
      ]
    },
    {
      "cell_type": "markdown",
      "metadata": {
        "id": "x5mEiksr6UgQ"
      },
      "source": [
        "### Normalisasi"
      ]
    },
    {
      "cell_type": "code",
      "execution_count": 48,
      "metadata": {
        "colab": {
          "base_uri": "https://localhost:8080/"
        },
        "id": "TeJ_i4Wtkvfn",
        "outputId": "6848e6cd-44e7-4e96-f094-5e4ee397ecc2"
      },
      "outputs": [
        {
          "data": {
            "text/plain": [
              "array([[0.65900383, 0.90182821, 0.5       ,        nan, 0.82279776,\n",
              "        0.375     ],\n",
              "       [0.70114943,        nan,        nan,        nan, 0.8276393 ,\n",
              "        0.        ],\n",
              "       [0.51724138, 0.69119286, 0.33333333,        nan, 0.82810164,\n",
              "        0.125     ],\n",
              "       ...,\n",
              "       [0.70114943, 0.77716957,        nan,        nan, 0.89469927,\n",
              "        0.375     ],\n",
              "       [0.31034483, 0.64491448, 0.5       ,        nan, 0.62633584,\n",
              "        0.125     ],\n",
              "       [0.42145594, 0.38396854,        nan,        nan, 0.80087379,\n",
              "        0.125     ]])"
            ]
          },
          "execution_count": 48,
          "metadata": {},
          "output_type": "execute_result"
        }
      ],
      "source": [
        "min_max_scaler = MinMaxScaler()\n",
        "df_copy = df.filter(\n",
        "  [\n",
        "  'avg_monthly_hrs', \n",
        "  'last_evaluation', \n",
        "  'n_projects', \n",
        "  'recently_promoted', \n",
        "  'satisfaction', \n",
        "  'tenure'\n",
        "  ]\n",
        ")\n",
        "scaled_data = min_max_scaler.fit_transform(df_copy)\n",
        "scaled_data"
      ]
    },
    {
      "cell_type": "markdown",
      "metadata": {
        "id": "c3XhHmt96WpT"
      },
      "source": [
        "### Standarisasi"
      ]
    },
    {
      "cell_type": "code",
      "execution_count": 49,
      "metadata": {
        "colab": {
          "base_uri": "https://localhost:8080/"
        },
        "id": "IJAwHtZ-oXy2",
        "outputId": "2e80a898-820c-42d8-d40c-6d836362226b"
      },
      "outputs": [
        {
          "data": {
            "text/plain": [
              "array([[ 0.4154474 ,  1.2388591 ,  0.18015888,         nan,  0.83280317,\n",
              "         1.02877285],\n",
              "       [ 0.63118137,         nan,         nan,         nan,  0.85135706,\n",
              "        -1.02468463],\n",
              "       [-0.31020322,  0.40642745, -0.61828277,         nan,  0.85312884,\n",
              "        -0.3401988 ],\n",
              "       ...,\n",
              "       [ 0.63118137,  0.7462077 ,         nan,         nan,  1.108346  ,\n",
              "         1.02877285],\n",
              "       [-1.36926088,  0.22353512,  0.18015888,         nan,  0.07991679,\n",
              "        -0.3401988 ],\n",
              "       [-0.80050769, -0.80772416,         nan,         nan,  0.74878561,\n",
              "        -0.3401988 ]])"
            ]
          },
          "execution_count": 49,
          "metadata": {},
          "output_type": "execute_result"
        }
      ],
      "source": [
        "standard_scaler = StandardScaler()\n",
        "df_copy = df.filter(\n",
        "  [\n",
        "  'avg_monthly_hrs', \n",
        "  'last_evaluation', \n",
        "  'n_projects', \n",
        "  'recently_promoted', \n",
        "  'satisfaction', \n",
        "  'tenure'\n",
        "  ]\n",
        ")\n",
        "scaled_data_standard = standard_scaler.fit_transform(df_copy)\n",
        "scaled_data_standard"
      ]
    },
    {
      "cell_type": "markdown",
      "metadata": {
        "id": "4DobqePT6icq"
      },
      "source": [
        "### Data Cleaning"
      ]
    },
    {
      "cell_type": "markdown",
      "metadata": {
        "id": "AK_DUzXxd2fm"
      },
      "source": [
        "Berikut ini adalah jumlah null di dalam dataset dari setiap attribut"
      ]
    },
    {
      "cell_type": "code",
      "execution_count": 50,
      "metadata": {
        "colab": {
          "base_uri": "https://localhost:8080/"
        },
        "id": "rgYn2edd6kMH",
        "outputId": "159ab2ec-7b41-423a-9ea3-ff490fa4b768"
      },
      "outputs": [
        {
          "data": {
            "text/plain": [
              "avg_monthly_hrs         79\n",
              "department             708\n",
              "filed_complaint      12186\n",
              "last_evaluation       1535\n",
              "n_projects              67\n",
              "recently_promoted    13949\n",
              "salary                   0\n",
              "satisfaction           182\n",
              "status                   0\n",
              "tenure                 185\n",
              "dtype: int64"
            ]
          },
          "execution_count": 50,
          "metadata": {},
          "output_type": "execute_result"
        }
      ],
      "source": [
        "df.isna().sum()"
      ]
    },
    {
      "cell_type": "markdown",
      "metadata": {
        "id": "bVfOUDAqeiQo"
      },
      "source": [
        "- Gunakan strategy Median untuk nilai Integer.\n",
        "- Gunakan strategy Mean untuk nilai Desimal.\n",
        "- Gunakan strategy Modus untuk nilai tulisan "
      ]
    },
    {
      "cell_type": "code",
      "execution_count": 51,
      "metadata": {
        "id": "7JH4FTHL64uo"
      },
      "outputs": [],
      "source": [
        "medianImputer = SimpleImputer(strategy='median')\n",
        "meanImputer = SimpleImputer(strategy='mean')\n",
        "modusImputer = SimpleImputer(strategy='most_frequent')\n",
        "df[\"avg_monthly_hrs\"] = medianImputer.fit_transform(df[[\"avg_monthly_hrs\"]])\n",
        "df[\"department\"] = modusImputer.fit_transform(df[[\"department\"]])\n",
        "df[\"filed_complaint\"] = medianImputer.fit_transform(df[[\"filed_complaint\"]])\n",
        "df[\"last_evaluation\"] = meanImputer.fit_transform(df[[\"last_evaluation\"]])\n",
        "df[\"n_projects\"] = medianImputer.fit_transform(df[[\"n_projects\"]])\n",
        "df[\"recently_promoted\"] = medianImputer.fit_transform(df[[\"recently_promoted\"]])\n",
        "df[\"satisfaction\"] = meanImputer.fit_transform(df[[\"satisfaction\"]])\n",
        "df[\"tenure\"] = medianImputer.fit_transform(df[[\"tenure\"]])"
      ]
    },
    {
      "cell_type": "markdown",
      "metadata": {
        "id": "At6oVJoAeNAF"
      },
      "source": [
        "berikut ini setelah data di cleaning"
      ]
    },
    {
      "cell_type": "code",
      "execution_count": 52,
      "metadata": {
        "colab": {
          "base_uri": "https://localhost:8080/"
        },
        "id": "dCf8Sl-vDaCt",
        "outputId": "ed722f02-4058-42e1-f666-beaeb3dcf630"
      },
      "outputs": [
        {
          "data": {
            "text/plain": [
              "avg_monthly_hrs      0\n",
              "department           0\n",
              "filed_complaint      0\n",
              "last_evaluation      0\n",
              "n_projects           0\n",
              "recently_promoted    0\n",
              "salary               0\n",
              "satisfaction         0\n",
              "status               0\n",
              "tenure               0\n",
              "dtype: int64"
            ]
          },
          "execution_count": 52,
          "metadata": {},
          "output_type": "execute_result"
        }
      ],
      "source": [
        "df.isna().sum()"
      ]
    },
    {
      "cell_type": "markdown",
      "metadata": {
        "id": "Gh_Hnli8fl9L"
      },
      "source": [
        "Bersihkan data duplikat\n"
      ]
    },
    {
      "cell_type": "code",
      "execution_count": 53,
      "metadata": {
        "colab": {
          "base_uri": "https://localhost:8080/"
        },
        "id": "4ZDHGVB_Eduz",
        "outputId": "509cfdc2-9ffb-41eb-869e-7b96a00baffc"
      },
      "outputs": [
        {
          "data": {
            "text/plain": [
              "avg_monthly_hrs                                                 6449.0\n",
              "department           supportadminmarketingsalessalessalessalestempt...\n",
              "filed_complaint                                                   48.0\n",
              "last_evaluation                                               34.63956\n",
              "n_projects                                                       109.0\n",
              "recently_promoted                                                 48.0\n",
              "salary               mediumlowmediumlowlowhighmediumlowlowlowmedium...\n",
              "satisfaction                                                 29.320551\n",
              "status               EmployedEmployedEmployedLeftLeftEmployedEmploy...\n",
              "tenure                                                           141.0\n",
              "dtype: object"
            ]
          },
          "execution_count": 53,
          "metadata": {},
          "output_type": "execute_result"
        }
      ],
      "source": [
        "df[df.duplicated()].sum()"
      ]
    },
    {
      "cell_type": "code",
      "execution_count": 54,
      "metadata": {
        "id": "ixw50OhMFXL9"
      },
      "outputs": [],
      "source": [
        "df.drop_duplicates(inplace=True)"
      ]
    },
    {
      "cell_type": "markdown",
      "metadata": {
        "id": "WX4mRCeYfqdJ"
      },
      "source": [
        "berikut setelah data duplikat dibersihkan"
      ]
    },
    {
      "cell_type": "code",
      "execution_count": 55,
      "metadata": {
        "colab": {
          "base_uri": "https://localhost:8080/"
        },
        "id": "JNJUCLLNFjcE",
        "outputId": "37090ab2-6ae9-4663-826a-909af63856f3"
      },
      "outputs": [
        {
          "data": {
            "text/plain": [
              "avg_monthly_hrs      0.0\n",
              "department           0.0\n",
              "filed_complaint      0.0\n",
              "last_evaluation      0.0\n",
              "n_projects           0.0\n",
              "recently_promoted    0.0\n",
              "salary               0.0\n",
              "satisfaction         0.0\n",
              "status               0.0\n",
              "tenure               0.0\n",
              "dtype: float64"
            ]
          },
          "execution_count": 55,
          "metadata": {},
          "output_type": "execute_result"
        }
      ],
      "source": [
        "df[df.duplicated()].sum()"
      ]
    },
    {
      "cell_type": "markdown",
      "metadata": {
        "id": "R4qD1-q5fuyI"
      },
      "source": [
        "mengubah tipe data dari attribut"
      ]
    },
    {
      "cell_type": "code",
      "execution_count": 56,
      "metadata": {
        "colab": {
          "base_uri": "https://localhost:8080/"
        },
        "id": "Z4Cd43YZfztp",
        "outputId": "0bcac8a4-5cc0-4431-d0f0-bb21dd63f1a0"
      },
      "outputs": [
        {
          "name": "stdout",
          "output_type": "stream",
          "text": [
            "<class 'pandas.core.frame.DataFrame'>\n",
            "Int64Index: 14201 entries, 0 to 14248\n",
            "Data columns (total 10 columns):\n",
            " #   Column             Non-Null Count  Dtype  \n",
            "---  ------             --------------  -----  \n",
            " 0   avg_monthly_hrs    14201 non-null  float64\n",
            " 1   department         14201 non-null  object \n",
            " 2   filed_complaint    14201 non-null  float64\n",
            " 3   last_evaluation    14201 non-null  float64\n",
            " 4   n_projects         14201 non-null  float64\n",
            " 5   recently_promoted  14201 non-null  float64\n",
            " 6   salary             14201 non-null  object \n",
            " 7   satisfaction       14201 non-null  float64\n",
            " 8   status             14201 non-null  object \n",
            " 9   tenure             14201 non-null  float64\n",
            "dtypes: float64(7), object(3)\n",
            "memory usage: 1.2+ MB\n"
          ]
        }
      ],
      "source": [
        "df.info()"
      ]
    },
    {
      "cell_type": "code",
      "execution_count": 57,
      "metadata": {
        "id": "-vXp4pSgYw2A"
      },
      "outputs": [],
      "source": [
        "df['avg_monthly_hrs'] = df['avg_monthly_hrs'].astype('int64')\n",
        "df['tenure'] = df['tenure'].astype('int64')"
      ]
    },
    {
      "cell_type": "code",
      "execution_count": 58,
      "metadata": {
        "colab": {
          "base_uri": "https://localhost:8080/"
        },
        "id": "lTovAr4vZDbK",
        "outputId": "b81bfc94-a4c5-431a-95f3-b5632e48a3bd"
      },
      "outputs": [
        {
          "name": "stdout",
          "output_type": "stream",
          "text": [
            "<class 'pandas.core.frame.DataFrame'>\n",
            "Int64Index: 14201 entries, 0 to 14248\n",
            "Data columns (total 10 columns):\n",
            " #   Column             Non-Null Count  Dtype  \n",
            "---  ------             --------------  -----  \n",
            " 0   avg_monthly_hrs    14201 non-null  int64  \n",
            " 1   department         14201 non-null  object \n",
            " 2   filed_complaint    14201 non-null  float64\n",
            " 3   last_evaluation    14201 non-null  float64\n",
            " 4   n_projects         14201 non-null  float64\n",
            " 5   recently_promoted  14201 non-null  float64\n",
            " 6   salary             14201 non-null  object \n",
            " 7   satisfaction       14201 non-null  float64\n",
            " 8   status             14201 non-null  object \n",
            " 9   tenure             14201 non-null  int64  \n",
            "dtypes: float64(5), int64(2), object(3)\n",
            "memory usage: 1.2+ MB\n"
          ]
        }
      ],
      "source": [
        "df.info()"
      ]
    },
    {
      "cell_type": "markdown",
      "metadata": {
        "id": "LVV1vZImf10x"
      },
      "source": [
        "### Encoding"
      ]
    },
    {
      "cell_type": "markdown",
      "metadata": {
        "id": "-O9NTlc1f4U-"
      },
      "source": [
        "mengubah kategori dari tulisan menjadi angka"
      ]
    },
    {
      "cell_type": "code",
      "execution_count": 59,
      "metadata": {
        "colab": {
          "base_uri": "https://localhost:8080/",
          "height": 206
        },
        "id": "paamKaVPZ_nH",
        "outputId": "b7ba3feb-0c30-4a38-f1f4-99e31d453fdc"
      },
      "outputs": [
        {
          "data": {
            "text/html": [
              "\n",
              "  <div id=\"df-e828d453-5ce4-4d8c-9f13-ea52773d2ae6\">\n",
              "    <div class=\"colab-df-container\">\n",
              "      <div>\n",
              "<style scoped>\n",
              "    .dataframe tbody tr th:only-of-type {\n",
              "        vertical-align: middle;\n",
              "    }\n",
              "\n",
              "    .dataframe tbody tr th {\n",
              "        vertical-align: top;\n",
              "    }\n",
              "\n",
              "    .dataframe thead th {\n",
              "        text-align: right;\n",
              "    }\n",
              "</style>\n",
              "<table border=\"1\" class=\"dataframe\">\n",
              "  <thead>\n",
              "    <tr style=\"text-align: right;\">\n",
              "      <th></th>\n",
              "      <th>avg_monthly_hrs</th>\n",
              "      <th>department</th>\n",
              "      <th>filed_complaint</th>\n",
              "      <th>last_evaluation</th>\n",
              "      <th>n_projects</th>\n",
              "      <th>recently_promoted</th>\n",
              "      <th>salary</th>\n",
              "      <th>satisfaction</th>\n",
              "      <th>status</th>\n",
              "      <th>tenure</th>\n",
              "    </tr>\n",
              "  </thead>\n",
              "  <tbody>\n",
              "    <tr>\n",
              "      <th>0</th>\n",
              "      <td>221</td>\n",
              "      <td>engineering</td>\n",
              "      <td>1.0</td>\n",
              "      <td>0.932868</td>\n",
              "      <td>4.0</td>\n",
              "      <td>1.0</td>\n",
              "      <td>low</td>\n",
              "      <td>0.829896</td>\n",
              "      <td>Left</td>\n",
              "      <td>5</td>\n",
              "    </tr>\n",
              "    <tr>\n",
              "      <th>1</th>\n",
              "      <td>232</td>\n",
              "      <td>support</td>\n",
              "      <td>1.0</td>\n",
              "      <td>0.718505</td>\n",
              "      <td>4.0</td>\n",
              "      <td>1.0</td>\n",
              "      <td>low</td>\n",
              "      <td>0.834544</td>\n",
              "      <td>Employed</td>\n",
              "      <td>2</td>\n",
              "    </tr>\n",
              "    <tr>\n",
              "      <th>2</th>\n",
              "      <td>184</td>\n",
              "      <td>sales</td>\n",
              "      <td>1.0</td>\n",
              "      <td>0.788830</td>\n",
              "      <td>3.0</td>\n",
              "      <td>1.0</td>\n",
              "      <td>medium</td>\n",
              "      <td>0.834988</td>\n",
              "      <td>Employed</td>\n",
              "      <td>3</td>\n",
              "    </tr>\n",
              "    <tr>\n",
              "      <th>3</th>\n",
              "      <td>206</td>\n",
              "      <td>sales</td>\n",
              "      <td>1.0</td>\n",
              "      <td>0.575688</td>\n",
              "      <td>4.0</td>\n",
              "      <td>1.0</td>\n",
              "      <td>low</td>\n",
              "      <td>0.424764</td>\n",
              "      <td>Employed</td>\n",
              "      <td>2</td>\n",
              "    </tr>\n",
              "    <tr>\n",
              "      <th>4</th>\n",
              "      <td>249</td>\n",
              "      <td>sales</td>\n",
              "      <td>1.0</td>\n",
              "      <td>0.845217</td>\n",
              "      <td>3.0</td>\n",
              "      <td>1.0</td>\n",
              "      <td>low</td>\n",
              "      <td>0.779043</td>\n",
              "      <td>Employed</td>\n",
              "      <td>3</td>\n",
              "    </tr>\n",
              "  </tbody>\n",
              "</table>\n",
              "</div>\n",
              "      <button class=\"colab-df-convert\" onclick=\"convertToInteractive('df-e828d453-5ce4-4d8c-9f13-ea52773d2ae6')\"\n",
              "              title=\"Convert this dataframe to an interactive table.\"\n",
              "              style=\"display:none;\">\n",
              "        \n",
              "  <svg xmlns=\"http://www.w3.org/2000/svg\" height=\"24px\"viewBox=\"0 0 24 24\"\n",
              "       width=\"24px\">\n",
              "    <path d=\"M0 0h24v24H0V0z\" fill=\"none\"/>\n",
              "    <path d=\"M18.56 5.44l.94 2.06.94-2.06 2.06-.94-2.06-.94-.94-2.06-.94 2.06-2.06.94zm-11 1L8.5 8.5l.94-2.06 2.06-.94-2.06-.94L8.5 2.5l-.94 2.06-2.06.94zm10 10l.94 2.06.94-2.06 2.06-.94-2.06-.94-.94-2.06-.94 2.06-2.06.94z\"/><path d=\"M17.41 7.96l-1.37-1.37c-.4-.4-.92-.59-1.43-.59-.52 0-1.04.2-1.43.59L10.3 9.45l-7.72 7.72c-.78.78-.78 2.05 0 2.83L4 21.41c.39.39.9.59 1.41.59.51 0 1.02-.2 1.41-.59l7.78-7.78 2.81-2.81c.8-.78.8-2.07 0-2.86zM5.41 20L4 18.59l7.72-7.72 1.47 1.35L5.41 20z\"/>\n",
              "  </svg>\n",
              "      </button>\n",
              "      \n",
              "  <style>\n",
              "    .colab-df-container {\n",
              "      display:flex;\n",
              "      flex-wrap:wrap;\n",
              "      gap: 12px;\n",
              "    }\n",
              "\n",
              "    .colab-df-convert {\n",
              "      background-color: #E8F0FE;\n",
              "      border: none;\n",
              "      border-radius: 50%;\n",
              "      cursor: pointer;\n",
              "      display: none;\n",
              "      fill: #1967D2;\n",
              "      height: 32px;\n",
              "      padding: 0 0 0 0;\n",
              "      width: 32px;\n",
              "    }\n",
              "\n",
              "    .colab-df-convert:hover {\n",
              "      background-color: #E2EBFA;\n",
              "      box-shadow: 0px 1px 2px rgba(60, 64, 67, 0.3), 0px 1px 3px 1px rgba(60, 64, 67, 0.15);\n",
              "      fill: #174EA6;\n",
              "    }\n",
              "\n",
              "    [theme=dark] .colab-df-convert {\n",
              "      background-color: #3B4455;\n",
              "      fill: #D2E3FC;\n",
              "    }\n",
              "\n",
              "    [theme=dark] .colab-df-convert:hover {\n",
              "      background-color: #434B5C;\n",
              "      box-shadow: 0px 1px 3px 1px rgba(0, 0, 0, 0.15);\n",
              "      filter: drop-shadow(0px 1px 2px rgba(0, 0, 0, 0.3));\n",
              "      fill: #FFFFFF;\n",
              "    }\n",
              "  </style>\n",
              "\n",
              "      <script>\n",
              "        const buttonEl =\n",
              "          document.querySelector('#df-e828d453-5ce4-4d8c-9f13-ea52773d2ae6 button.colab-df-convert');\n",
              "        buttonEl.style.display =\n",
              "          google.colab.kernel.accessAllowed ? 'block' : 'none';\n",
              "\n",
              "        async function convertToInteractive(key) {\n",
              "          const element = document.querySelector('#df-e828d453-5ce4-4d8c-9f13-ea52773d2ae6');\n",
              "          const dataTable =\n",
              "            await google.colab.kernel.invokeFunction('convertToInteractive',\n",
              "                                                     [key], {});\n",
              "          if (!dataTable) return;\n",
              "\n",
              "          const docLinkHtml = 'Like what you see? Visit the ' +\n",
              "            '<a target=\"_blank\" href=https://colab.research.google.com/notebooks/data_table.ipynb>data table notebook</a>'\n",
              "            + ' to learn more about interactive tables.';\n",
              "          element.innerHTML = '';\n",
              "          dataTable['output_type'] = 'display_data';\n",
              "          await google.colab.output.renderOutput(dataTable, element);\n",
              "          const docLink = document.createElement('div');\n",
              "          docLink.innerHTML = docLinkHtml;\n",
              "          element.appendChild(docLink);\n",
              "        }\n",
              "      </script>\n",
              "    </div>\n",
              "  </div>\n",
              "  "
            ],
            "text/plain": [
              "   avg_monthly_hrs   department  filed_complaint  last_evaluation  n_projects  \\\n",
              "0              221  engineering              1.0         0.932868         4.0   \n",
              "1              232      support              1.0         0.718505         4.0   \n",
              "2              184        sales              1.0         0.788830         3.0   \n",
              "3              206        sales              1.0         0.575688         4.0   \n",
              "4              249        sales              1.0         0.845217         3.0   \n",
              "\n",
              "   recently_promoted  salary  satisfaction    status  tenure  \n",
              "0                1.0     low      0.829896      Left       5  \n",
              "1                1.0     low      0.834544  Employed       2  \n",
              "2                1.0  medium      0.834988  Employed       3  \n",
              "3                1.0     low      0.424764  Employed       2  \n",
              "4                1.0     low      0.779043  Employed       3  "
            ]
          },
          "execution_count": 59,
          "metadata": {},
          "output_type": "execute_result"
        }
      ],
      "source": [
        "one_hot_encoder = OneHotEncoder(sparse=False)\n",
        "\n",
        "departmentEnc = one_hot_encoder.fit_transform(df[[\"department\"]])\n",
        "salaryEnc = one_hot_encoder.fit_transform(df[[\"salary\"]])\n",
        "statusEnc = one_hot_encoder.fit_transform(df[[\"status\"]])\n",
        "\n",
        "encoded_df = pd.DataFrame([[departmentEnc, salaryEnc, statusEnc]])\n",
        "df.join(encoded_df)\n",
        "df.head()"
      ]
    }
  ],
  "metadata": {
    "colab": {
      "collapsed_sections": [],
      "provenance": []
    },
    "kernelspec": {
      "display_name": "Python 3",
      "name": "python3"
    },
    "language_info": {
      "name": "python"
    }
  },
  "nbformat": 4,
  "nbformat_minor": 0
}
