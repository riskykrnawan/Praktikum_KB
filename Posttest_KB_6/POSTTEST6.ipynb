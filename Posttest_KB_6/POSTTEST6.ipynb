{
  "nbformat": 4,
  "nbformat_minor": 0,
  "metadata": {
    "colab": {
      "provenance": [],
      "collapsed_sections": []
    },
    "kernelspec": {
      "name": "python3",
      "display_name": "Python 3"
    },
    "language_info": {
      "name": "python"
    }
  },
  "cells": [
    {
      "cell_type": "markdown",
      "source": [
        "- Nama: Risky Kurniawan\n",
        "- NIM: 2009106050\n",
        "- Kelas: A2 20\n",
        "- POSTTEST 6"
      ],
      "metadata": {
        "id": "de0h9CrS-YbI"
      }
    },
    {
      "cell_type": "markdown",
      "source": [
        "# **Import Library & Dataset**"
      ],
      "metadata": {
        "id": "btncxfXj_cWj"
      }
    },
    {
      "cell_type": "code",
      "execution_count": 72,
      "metadata": {
        "id": "mJ824p70FppO"
      },
      "outputs": [],
      "source": [
        "import pandas as pd\n",
        "import matplotlib.pyplot as plt\n",
        "import seaborn as sns\n",
        "\n",
        "from sklearn.preprocessing import StandardScaler\n",
        "\n",
        "from sklearn.cluster import AgglomerativeClustering\n",
        "from sklearn.cluster import KMeans\n",
        "from scipy.cluster.hierarchy import dendrogram, linkage"
      ]
    },
    {
      "cell_type": "code",
      "source": [
        "data = pd.read_csv('Wholesale customers data.csv')\n",
        "data.head(15)"
      ],
      "metadata": {
        "colab": {
          "base_uri": "https://localhost:8080/",
          "height": 520
        },
        "id": "9mPWplpPHSAH",
        "outputId": "35da5a5b-8fcb-41f7-edd0-484e7fccf745"
      },
      "execution_count": 73,
      "outputs": [
        {
          "output_type": "execute_result",
          "data": {
            "text/plain": [
              "    Channel  Region  Fresh   Milk  Grocery  Frozen  Detergents_Paper  \\\n",
              "0         2       3  12669   9656     7561     214              2674   \n",
              "1         2       3   7057   9810     9568    1762              3293   \n",
              "2         2       3   6353   8808     7684    2405              3516   \n",
              "3         1       3  13265   1196     4221    6404               507   \n",
              "4         2       3  22615   5410     7198    3915              1777   \n",
              "5         2       3   9413   8259     5126     666              1795   \n",
              "6         2       3  12126   3199     6975     480              3140   \n",
              "7         2       3   7579   4956     9426    1669              3321   \n",
              "8         1       3   5963   3648     6192     425              1716   \n",
              "9         2       3   6006  11093    18881    1159              7425   \n",
              "10        2       3   3366   5403    12974    4400              5977   \n",
              "11        2       3  13146   1124     4523    1420               549   \n",
              "12        2       3  31714  12319    11757     287              3881   \n",
              "13        2       3  21217   6208    14982    3095              6707   \n",
              "14        2       3  24653   9465    12091     294              5058   \n",
              "\n",
              "    Delicassen  \n",
              "0         1338  \n",
              "1         1776  \n",
              "2         7844  \n",
              "3         1788  \n",
              "4         5185  \n",
              "5         1451  \n",
              "6          545  \n",
              "7         2566  \n",
              "8          750  \n",
              "9         2098  \n",
              "10        1744  \n",
              "11         497  \n",
              "12        2931  \n",
              "13         602  \n",
              "14        2168  "
            ],
            "text/html": [
              "\n",
              "  <div id=\"df-3e607935-4285-4d5b-9929-eb6750cad77c\">\n",
              "    <div class=\"colab-df-container\">\n",
              "      <div>\n",
              "<style scoped>\n",
              "    .dataframe tbody tr th:only-of-type {\n",
              "        vertical-align: middle;\n",
              "    }\n",
              "\n",
              "    .dataframe tbody tr th {\n",
              "        vertical-align: top;\n",
              "    }\n",
              "\n",
              "    .dataframe thead th {\n",
              "        text-align: right;\n",
              "    }\n",
              "</style>\n",
              "<table border=\"1\" class=\"dataframe\">\n",
              "  <thead>\n",
              "    <tr style=\"text-align: right;\">\n",
              "      <th></th>\n",
              "      <th>Channel</th>\n",
              "      <th>Region</th>\n",
              "      <th>Fresh</th>\n",
              "      <th>Milk</th>\n",
              "      <th>Grocery</th>\n",
              "      <th>Frozen</th>\n",
              "      <th>Detergents_Paper</th>\n",
              "      <th>Delicassen</th>\n",
              "    </tr>\n",
              "  </thead>\n",
              "  <tbody>\n",
              "    <tr>\n",
              "      <th>0</th>\n",
              "      <td>2</td>\n",
              "      <td>3</td>\n",
              "      <td>12669</td>\n",
              "      <td>9656</td>\n",
              "      <td>7561</td>\n",
              "      <td>214</td>\n",
              "      <td>2674</td>\n",
              "      <td>1338</td>\n",
              "    </tr>\n",
              "    <tr>\n",
              "      <th>1</th>\n",
              "      <td>2</td>\n",
              "      <td>3</td>\n",
              "      <td>7057</td>\n",
              "      <td>9810</td>\n",
              "      <td>9568</td>\n",
              "      <td>1762</td>\n",
              "      <td>3293</td>\n",
              "      <td>1776</td>\n",
              "    </tr>\n",
              "    <tr>\n",
              "      <th>2</th>\n",
              "      <td>2</td>\n",
              "      <td>3</td>\n",
              "      <td>6353</td>\n",
              "      <td>8808</td>\n",
              "      <td>7684</td>\n",
              "      <td>2405</td>\n",
              "      <td>3516</td>\n",
              "      <td>7844</td>\n",
              "    </tr>\n",
              "    <tr>\n",
              "      <th>3</th>\n",
              "      <td>1</td>\n",
              "      <td>3</td>\n",
              "      <td>13265</td>\n",
              "      <td>1196</td>\n",
              "      <td>4221</td>\n",
              "      <td>6404</td>\n",
              "      <td>507</td>\n",
              "      <td>1788</td>\n",
              "    </tr>\n",
              "    <tr>\n",
              "      <th>4</th>\n",
              "      <td>2</td>\n",
              "      <td>3</td>\n",
              "      <td>22615</td>\n",
              "      <td>5410</td>\n",
              "      <td>7198</td>\n",
              "      <td>3915</td>\n",
              "      <td>1777</td>\n",
              "      <td>5185</td>\n",
              "    </tr>\n",
              "    <tr>\n",
              "      <th>5</th>\n",
              "      <td>2</td>\n",
              "      <td>3</td>\n",
              "      <td>9413</td>\n",
              "      <td>8259</td>\n",
              "      <td>5126</td>\n",
              "      <td>666</td>\n",
              "      <td>1795</td>\n",
              "      <td>1451</td>\n",
              "    </tr>\n",
              "    <tr>\n",
              "      <th>6</th>\n",
              "      <td>2</td>\n",
              "      <td>3</td>\n",
              "      <td>12126</td>\n",
              "      <td>3199</td>\n",
              "      <td>6975</td>\n",
              "      <td>480</td>\n",
              "      <td>3140</td>\n",
              "      <td>545</td>\n",
              "    </tr>\n",
              "    <tr>\n",
              "      <th>7</th>\n",
              "      <td>2</td>\n",
              "      <td>3</td>\n",
              "      <td>7579</td>\n",
              "      <td>4956</td>\n",
              "      <td>9426</td>\n",
              "      <td>1669</td>\n",
              "      <td>3321</td>\n",
              "      <td>2566</td>\n",
              "    </tr>\n",
              "    <tr>\n",
              "      <th>8</th>\n",
              "      <td>1</td>\n",
              "      <td>3</td>\n",
              "      <td>5963</td>\n",
              "      <td>3648</td>\n",
              "      <td>6192</td>\n",
              "      <td>425</td>\n",
              "      <td>1716</td>\n",
              "      <td>750</td>\n",
              "    </tr>\n",
              "    <tr>\n",
              "      <th>9</th>\n",
              "      <td>2</td>\n",
              "      <td>3</td>\n",
              "      <td>6006</td>\n",
              "      <td>11093</td>\n",
              "      <td>18881</td>\n",
              "      <td>1159</td>\n",
              "      <td>7425</td>\n",
              "      <td>2098</td>\n",
              "    </tr>\n",
              "    <tr>\n",
              "      <th>10</th>\n",
              "      <td>2</td>\n",
              "      <td>3</td>\n",
              "      <td>3366</td>\n",
              "      <td>5403</td>\n",
              "      <td>12974</td>\n",
              "      <td>4400</td>\n",
              "      <td>5977</td>\n",
              "      <td>1744</td>\n",
              "    </tr>\n",
              "    <tr>\n",
              "      <th>11</th>\n",
              "      <td>2</td>\n",
              "      <td>3</td>\n",
              "      <td>13146</td>\n",
              "      <td>1124</td>\n",
              "      <td>4523</td>\n",
              "      <td>1420</td>\n",
              "      <td>549</td>\n",
              "      <td>497</td>\n",
              "    </tr>\n",
              "    <tr>\n",
              "      <th>12</th>\n",
              "      <td>2</td>\n",
              "      <td>3</td>\n",
              "      <td>31714</td>\n",
              "      <td>12319</td>\n",
              "      <td>11757</td>\n",
              "      <td>287</td>\n",
              "      <td>3881</td>\n",
              "      <td>2931</td>\n",
              "    </tr>\n",
              "    <tr>\n",
              "      <th>13</th>\n",
              "      <td>2</td>\n",
              "      <td>3</td>\n",
              "      <td>21217</td>\n",
              "      <td>6208</td>\n",
              "      <td>14982</td>\n",
              "      <td>3095</td>\n",
              "      <td>6707</td>\n",
              "      <td>602</td>\n",
              "    </tr>\n",
              "    <tr>\n",
              "      <th>14</th>\n",
              "      <td>2</td>\n",
              "      <td>3</td>\n",
              "      <td>24653</td>\n",
              "      <td>9465</td>\n",
              "      <td>12091</td>\n",
              "      <td>294</td>\n",
              "      <td>5058</td>\n",
              "      <td>2168</td>\n",
              "    </tr>\n",
              "  </tbody>\n",
              "</table>\n",
              "</div>\n",
              "      <button class=\"colab-df-convert\" onclick=\"convertToInteractive('df-3e607935-4285-4d5b-9929-eb6750cad77c')\"\n",
              "              title=\"Convert this dataframe to an interactive table.\"\n",
              "              style=\"display:none;\">\n",
              "        \n",
              "  <svg xmlns=\"http://www.w3.org/2000/svg\" height=\"24px\"viewBox=\"0 0 24 24\"\n",
              "       width=\"24px\">\n",
              "    <path d=\"M0 0h24v24H0V0z\" fill=\"none\"/>\n",
              "    <path d=\"M18.56 5.44l.94 2.06.94-2.06 2.06-.94-2.06-.94-.94-2.06-.94 2.06-2.06.94zm-11 1L8.5 8.5l.94-2.06 2.06-.94-2.06-.94L8.5 2.5l-.94 2.06-2.06.94zm10 10l.94 2.06.94-2.06 2.06-.94-2.06-.94-.94-2.06-.94 2.06-2.06.94z\"/><path d=\"M17.41 7.96l-1.37-1.37c-.4-.4-.92-.59-1.43-.59-.52 0-1.04.2-1.43.59L10.3 9.45l-7.72 7.72c-.78.78-.78 2.05 0 2.83L4 21.41c.39.39.9.59 1.41.59.51 0 1.02-.2 1.41-.59l7.78-7.78 2.81-2.81c.8-.78.8-2.07 0-2.86zM5.41 20L4 18.59l7.72-7.72 1.47 1.35L5.41 20z\"/>\n",
              "  </svg>\n",
              "      </button>\n",
              "      \n",
              "  <style>\n",
              "    .colab-df-container {\n",
              "      display:flex;\n",
              "      flex-wrap:wrap;\n",
              "      gap: 12px;\n",
              "    }\n",
              "\n",
              "    .colab-df-convert {\n",
              "      background-color: #E8F0FE;\n",
              "      border: none;\n",
              "      border-radius: 50%;\n",
              "      cursor: pointer;\n",
              "      display: none;\n",
              "      fill: #1967D2;\n",
              "      height: 32px;\n",
              "      padding: 0 0 0 0;\n",
              "      width: 32px;\n",
              "    }\n",
              "\n",
              "    .colab-df-convert:hover {\n",
              "      background-color: #E2EBFA;\n",
              "      box-shadow: 0px 1px 2px rgba(60, 64, 67, 0.3), 0px 1px 3px 1px rgba(60, 64, 67, 0.15);\n",
              "      fill: #174EA6;\n",
              "    }\n",
              "\n",
              "    [theme=dark] .colab-df-convert {\n",
              "      background-color: #3B4455;\n",
              "      fill: #D2E3FC;\n",
              "    }\n",
              "\n",
              "    [theme=dark] .colab-df-convert:hover {\n",
              "      background-color: #434B5C;\n",
              "      box-shadow: 0px 1px 3px 1px rgba(0, 0, 0, 0.15);\n",
              "      filter: drop-shadow(0px 1px 2px rgba(0, 0, 0, 0.3));\n",
              "      fill: #FFFFFF;\n",
              "    }\n",
              "  </style>\n",
              "\n",
              "      <script>\n",
              "        const buttonEl =\n",
              "          document.querySelector('#df-3e607935-4285-4d5b-9929-eb6750cad77c button.colab-df-convert');\n",
              "        buttonEl.style.display =\n",
              "          google.colab.kernel.accessAllowed ? 'block' : 'none';\n",
              "\n",
              "        async function convertToInteractive(key) {\n",
              "          const element = document.querySelector('#df-3e607935-4285-4d5b-9929-eb6750cad77c');\n",
              "          const dataTable =\n",
              "            await google.colab.kernel.invokeFunction('convertToInteractive',\n",
              "                                                     [key], {});\n",
              "          if (!dataTable) return;\n",
              "\n",
              "          const docLinkHtml = 'Like what you see? Visit the ' +\n",
              "            '<a target=\"_blank\" href=https://colab.research.google.com/notebooks/data_table.ipynb>data table notebook</a>'\n",
              "            + ' to learn more about interactive tables.';\n",
              "          element.innerHTML = '';\n",
              "          dataTable['output_type'] = 'display_data';\n",
              "          await google.colab.output.renderOutput(dataTable, element);\n",
              "          const docLink = document.createElement('div');\n",
              "          docLink.innerHTML = docLinkHtml;\n",
              "          element.appendChild(docLink);\n",
              "        }\n",
              "      </script>\n",
              "    </div>\n",
              "  </div>\n",
              "  "
            ]
          },
          "metadata": {},
          "execution_count": 73
        }
      ]
    },
    {
      "cell_type": "markdown",
      "source": [
        "# **Subset Data dan Scaling Data**\n",
        "\n",
        "Menggunakan StandardScaler"
      ],
      "metadata": {
        "id": "tO1hw_Er_6dZ"
      }
    },
    {
      "cell_type": "code",
      "source": [
        "X = data.iloc[:,2:8].values"
      ],
      "metadata": {
        "id": "BGKwQRzWS86N"
      },
      "execution_count": 74,
      "outputs": []
    },
    {
      "cell_type": "code",
      "source": [
        "\n",
        "ss = StandardScaler()\n",
        "x_scaled = ss.fit_transform(X)"
      ],
      "metadata": {
        "id": "iXAHyuFoYDFF"
      },
      "execution_count": 75,
      "outputs": []
    },
    {
      "cell_type": "markdown",
      "source": [
        "# **K-Means**"
      ],
      "metadata": {
        "id": "CBu63a__LkMS"
      }
    },
    {
      "cell_type": "markdown",
      "source": [
        "## **Menentukan Jumlah Cluster (Elbow Method)**\n",
        "\n",
        "Untuk menentukan jumlah cluster paling optimal"
      ],
      "metadata": {
        "id": "C8ncnCQl1ucX"
      }
    },
    {
      "cell_type": "code",
      "source": [
        "\n",
        "results =[]\n",
        "for i in range(1,20):\n",
        "    kmeans2 = KMeans(n_clusters = i,random_state=123)\n",
        "    kmeans2.fit(X)\n",
        "    results.append(kmeans2.inertia_)\n",
        "\n",
        "plt.figure(figsize = (20,8))\n",
        "\n",
        "plt.plot(range(1,20),results, '-o')\n",
        "\n",
        "plt.xlabel('Number of K')\n",
        "plt.ylabel('Inertia')\n",
        "plt.show()"
      ],
      "metadata": {
        "colab": {
          "base_uri": "https://localhost:8080/",
          "height": 511
        },
        "id": "Jwz6KIeTYQaJ",
        "outputId": "a3c58d3a-b8fd-4fe7-dcbc-020f50253472"
      },
      "execution_count": 86,
      "outputs": [
        {
          "output_type": "display_data",
          "data": {
            "text/plain": [
              "<Figure size 1440x576 with 1 Axes>"
            ],
            "image/png": "[encoded data removed]"
          },
          "metadata": {}
        }
      ]
    },
    {
      "cell_type": "markdown",
      "source": [
        "Terlihat bahwa cluster 5 sampai 7 adalah jumlah cluster yang optimal, disini saya menggunakan 5 cluster"
      ],
      "metadata": {
        "id": "JSsmu-2P-QIJ"
      }
    },
    {
      "cell_type": "markdown",
      "source": [
        "## **Model K-Means**"
      ],
      "metadata": {
        "id": "IO9umLB_NNW6"
      }
    },
    {
      "cell_type": "code",
      "source": [
        "model = KMeans(n_clusters=5)"
      ],
      "metadata": {
        "id": "2crXvfrHYjug"
      },
      "execution_count": 77,
      "outputs": []
    },
    {
      "cell_type": "code",
      "source": [
        "# Lakukan fit terhadap model berdasarkan data x_scaled\n",
        "model.fit(x_scaled)\n",
        "# Model menentukan label dari setiap sample\n",
        "labels = model.labels_\n",
        "labels"
      ],
      "metadata": {
        "colab": {
          "base_uri": "https://localhost:8080/"
        },
        "id": "zf026S_BvggS",
        "outputId": "97d4c8f0-8e0d-4ed0-8d9b-028ad22af557"
      },
      "execution_count": 88,
      "outputs": [
        {
          "output_type": "execute_result",
          "data": {
            "text/plain": [
              "array([2, 0, 0, 2, 1, 2, 2, 2, 2, 0, 0, 2, 1, 0, 0, 2, 0, 2, 2, 2, 2, 2,\n",
              "       1, 4, 0, 2, 2, 2, 0, 1, 2, 2, 2, 1, 2, 0, 1, 0, 0, 1, 1, 2, 0, 0,\n",
              "       0, 0, 0, 4, 0, 0, 2, 2, 1, 0, 2, 2, 4, 0, 2, 2, 2, 4, 2, 0, 2, 4,\n",
              "       2, 0, 2, 2, 1, 1, 2, 1, 2, 2, 2, 0, 2, 2, 2, 0, 0, 2, 2, 4, 4, 1,\n",
              "       2, 1, 2, 2, 4, 1, 0, 2, 2, 2, 2, 2, 0, 0, 2, 1, 2, 2, 0, 0, 2, 0,\n",
              "       2, 0, 1, 2, 2, 2, 2, 2, 2, 2, 2, 2, 2, 2, 1, 1, 1, 2, 2, 1, 2, 2,\n",
              "       2, 2, 2, 2, 2, 2, 2, 2, 2, 1, 1, 2, 2, 0, 2, 2, 2, 1, 2, 2, 2, 2,\n",
              "       2, 0, 0, 2, 0, 0, 0, 2, 2, 0, 2, 0, 0, 2, 2, 2, 0, 0, 2, 0, 2, 0,\n",
              "       1, 2, 2, 2, 2, 1, 0, 3, 2, 2, 2, 2, 0, 0, 2, 2, 2, 0, 2, 1, 1, 0,\n",
              "       2, 2, 0, 0, 1, 2, 2, 0, 2, 2, 2, 0, 2, 4, 2, 2, 0, 0, 0, 2, 0, 2,\n",
              "       2, 0, 2, 2, 2, 2, 2, 2, 2, 2, 2, 2, 2, 2, 2, 2, 2, 2, 2, 1, 1, 2,\n",
              "       2, 2, 0, 0, 2, 2, 2, 2, 2, 4, 2, 1, 0, 1, 2, 2, 1, 1, 2, 2, 2, 2,\n",
              "       0, 0, 0, 2, 0, 2, 2, 2, 2, 1, 2, 2, 1, 1, 2, 2, 2, 2, 1, 1, 1, 1,\n",
              "       2, 2, 2, 1, 2, 2, 2, 0, 2, 2, 2, 2, 2, 2, 2, 0, 0, 0, 0, 0, 0, 2,\n",
              "       2, 0, 2, 1, 0, 2, 2, 0, 2, 2, 2, 0, 2, 2, 2, 2, 2, 1, 2, 2, 2, 2,\n",
              "       2, 0, 2, 4, 1, 1, 2, 2, 2, 2, 0, 0, 2, 0, 2, 2, 0, 1, 2, 0, 2, 0,\n",
              "       2, 0, 2, 2, 2, 0, 2, 2, 2, 2, 2, 2, 2, 2, 2, 2, 2, 2, 1, 1, 2, 2,\n",
              "       2, 2, 0, 1, 2, 2, 1, 1, 1, 2, 0, 2, 2, 2, 2, 2, 2, 2, 2, 1, 2, 2,\n",
              "       0, 2, 2, 2, 2, 1, 2, 2, 2, 2, 1, 0, 2, 2, 2, 2, 2, 1, 2, 2, 0, 2,\n",
              "       0, 2, 0, 2, 2, 2, 2, 1, 0, 1, 2, 2, 2, 1, 2, 2, 2, 1, 1, 0, 2, 2],\n",
              "      dtype=int32)"
            ]
          },
          "metadata": {},
          "execution_count": 88
        }
      ]
    },
    {
      "cell_type": "markdown",
      "source": [
        "## **Menampilkan Centroid point yang telah dibuat**"
      ],
      "metadata": {
        "id": "Eo-dp_GHMu4v"
      }
    },
    {
      "cell_type": "code",
      "source": [
        "# menggunakan style ggplot\n",
        "plt.style.use('ggplot')\n",
        "\n",
        "plt.figure(figsize = (12,6))\n",
        "xs = x_scaled[:,0]\n",
        "ys = x_scaled[:,1]\n",
        "\n",
        "centroids = model.cluster_centers_\n",
        "centroids_x = centroids[:,0]\n",
        "centroids_y = centroids[:,1]\n",
        "\n",
        "plt.scatter(xs, ys, alpha=0.5, c=labels)\n",
        "plt.title('Kmeans')\n",
        "\n",
        "# Centroid point\n",
        "plt.scatter(centroids_x,centroids_y,\n",
        "            marker=\"D\",s=75,label=\"Centroid\")\n",
        "\n",
        "plt.xlabel(\"Channel\")\n",
        "plt.ylabel(\"Region\")\n",
        "plt.show()"
      ],
      "metadata": {
        "colab": {
          "base_uri": "https://localhost:8080/",
          "height": 408
        },
        "id": "463p0SmWviTN",
        "outputId": "de5e1371-4a54-45da-b8df-9bc0ce0bd49a"
      },
      "execution_count": 79,
      "outputs": [
        {
          "output_type": "display_data",
          "data": {
            "text/plain": [
              "<Figure size 864x432 with 1 Axes>"
            ],
            "image/png": "[encoded data removed]"
          },
          "metadata": {}
        }
      ]
    },
    {
      "cell_type": "code",
      "source": [
        "# Buat objek dari AgglomerativeClustering dengan jumlah cluster : 5\n",
        "hc_cluster = AgglomerativeClustering(n_clusters=5)"
      ],
      "metadata": {
        "id": "yVQpdHIDv4L2"
      },
      "execution_count": 80,
      "outputs": []
    },
    {
      "cell_type": "code",
      "source": [
        "merg = linkage(x_scaled,method=\"ward\")\n",
        "\n",
        "plt.figure(figsize=(18,6))\n",
        "\n",
        "dendrogram(\n",
        "    merg, \n",
        "    leaf_rotation=90,\n",
        "    labels=labels,\n",
        "    leaf_font_size=4\n",
        "    )\n",
        "\n",
        "plt.xlabel(\"Data Points\")\n",
        "plt.ylabel(\"Euclidian Distance\")\n",
        "\n",
        "plt.suptitle(\"Dendogram\",fontsize=18)\n",
        "plt.show()"
      ],
      "metadata": {
        "colab": {
          "base_uri": "https://localhost:8080/",
          "height": 427
        },
        "id": "lNDkLXt50jg3",
        "outputId": "5525d74e-0a5c-49fb-827f-efbc2ef2ca52"
      },
      "execution_count": 90,
      "outputs": [
        {
          "output_type": "display_data",
          "data": {
            "text/plain": [
              "<Figure size 1296x432 with 1 Axes>"
            ],
            "image/png": "[encoded data removed]"
          },
          "metadata": {}
        }
      ]
    }
  ]
}