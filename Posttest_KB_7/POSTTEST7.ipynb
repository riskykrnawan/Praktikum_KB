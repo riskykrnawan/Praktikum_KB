{
  "cells": [
    {
      "cell_type": "markdown",
      "id": "98b61823",
      "metadata": {
        "id": "98b61823"
      },
      "source": [
        "## POSTTEST 7\n",
        "\n",
        "\n",
        "*   Nama    : RISKY KURNIAWAN\n",
        "*   NIM     : 2009106050\n",
        "*   Kelas   : A2 (2020)\n",
        "\n",
        "\n",
        "\n",
        "\n",
        "\n"
      ]
    },
    {
      "cell_type": "code",
      "execution_count": 201,
      "id": "5061abec",
      "metadata": {
        "id": "5061abec"
      },
      "outputs": [],
      "source": [
        "import tensorflow as tf"
      ]
    },
    {
      "cell_type": "markdown",
      "id": "e123b7ac",
      "metadata": {
        "id": "e123b7ac"
      },
      "source": [
        "### 1. Buatlah sebuah tensor dengan **shape(5,5)** dengan nilai random yang disimpan dalam variable **random_tensor**\n"
      ]
    },
    {
      "cell_type": "code",
      "execution_count": 202,
      "id": "42c990a8",
      "metadata": {
        "colab": {
          "base_uri": "https://localhost:8080/"
        },
        "id": "42c990a8",
        "outputId": "eda1e04c-35f8-49c3-fc2f-16fd9abdb599"
      },
      "outputs": [
        {
          "output_type": "execute_result",
          "data": {
            "text/plain": [
              "<tf.Variable 'Variable:0' shape=(5, 5) dtype=float32, numpy=\n",
              "array([[2.5519788, 4.0903897, 2.8008606, 2.321536 , 3.3817124],\n",
              "       [2.66678  , 2.5055733, 2.401075 , 2.7427223, 1.6741441],\n",
              "       [2.5619106, 0.8426664, 3.530834 , 2.981483 , 2.5828128],\n",
              "       [2.8911448, 4.8377557, 4.6463823, 2.2391694, 3.0192277],\n",
              "       [2.0741491, 3.3829453, 3.792543 , 2.9179056, 2.9192753]],\n",
              "      dtype=float32)>"
            ]
          },
          "metadata": {},
          "execution_count": 202
        }
      ],
      "source": [
        "# Tensor (5,5) nilai Random\n",
        "# Karena akan dilakukan perhitungan aritmatika ke dalam tensor ini, maka saya akan menggunakan tf.Variable\n",
        "random_tensor = tf.Variable(\n",
        "    tf.random.normal(\n",
        "        [5,5], \n",
        "        mean=3, \n",
        "        stddev=1, \n",
        "        dtype=tf.float32, \n",
        "        seed=10\n",
        "        )\n",
        "    )\n",
        "random_tensor"
      ]
    },
    {
      "cell_type": "markdown",
      "id": "c550ad14",
      "metadata": {
        "id": "c550ad14"
      },
      "source": [
        "### 2. Buatlah sebuah tensor dengan shape(5,5) dari sebuah list dengan nilai bilangan prima dalam variable prime_tensor"
      ]
    },
    {
      "cell_type": "code",
      "execution_count": 203,
      "id": "98a5f7fd",
      "metadata": {
        "colab": {
          "base_uri": "https://localhost:8080/"
        },
        "id": "98a5f7fd",
        "outputId": "6e7ee9b8-99b4-4fc0-d64c-687a7f0ddb7b"
      },
      "outputs": [
        {
          "output_type": "execute_result",
          "data": {
            "text/plain": [
              "[[2, 3, 5, 7, 11],\n",
              " [13, 17, 19, 23, 29],\n",
              " [31, 37, 41, 43, 47],\n",
              " [53, 59, 61, 67, 71],\n",
              " [73, 79, 83, 89, 97]]"
            ]
          },
          "metadata": {},
          "execution_count": 203
        }
      ],
      "source": [
        "list = [[],[],[],[],[]]\n",
        "iterasi = 0\n",
        "# Memasukkan bilangan prima ke dalam list\n",
        "for num in range(2, 100 + 1):\n",
        "  for i in range(2, num):\n",
        "    if (num % i == 0):\n",
        "      break\n",
        "  else:\n",
        "    if (len(list[iterasi]) >= 5): # (5x5)\n",
        "      iterasi+=1\n",
        "    list[iterasi].append(int(num))\n",
        "list"
      ]
    },
    {
      "cell_type": "code",
      "execution_count": 204,
      "id": "93c6442a",
      "metadata": {
        "colab": {
          "base_uri": "https://localhost:8080/"
        },
        "id": "93c6442a",
        "outputId": "e9c75fff-aece-4ef1-8fee-6685baa80eea"
      },
      "outputs": [
        {
          "output_type": "execute_result",
          "data": {
            "text/plain": [
              "array([[ 2.,  3.,  5.,  7., 11.],\n",
              "       [13., 17., 19., 23., 29.],\n",
              "       [31., 37., 41., 43., 47.],\n",
              "       [53., 59., 61., 67., 71.],\n",
              "       [73., 79., 83., 89., 97.]], dtype=float32)"
            ]
          },
          "metadata": {},
          "execution_count": 204
        }
      ],
      "source": [
        "prime_tensor = tf.Variable((tf.convert_to_tensor(list, dtype=tf.float32)))\n",
        "prime_tensor.read_value().numpy()"
      ]
    },
    {
      "cell_type": "markdown",
      "id": "0f23e0f7",
      "metadata": {
        "id": "0f23e0f7"
      },
      "source": [
        "### 3. Tampilkan dimensi dari kedua variable tersebut"
      ]
    },
    {
      "cell_type": "code",
      "execution_count": 205,
      "id": "1c745e42",
      "metadata": {
        "colab": {
          "base_uri": "https://localhost:8080/"
        },
        "id": "1c745e42",
        "outputId": "8fa2775d-75f2-4e60-815f-be585203e0f2"
      },
      "outputs": [
        {
          "output_type": "stream",
          "name": "stdout",
          "text": [
            "(5, 5)\n",
            "(5, 5)\n"
          ]
        }
      ],
      "source": [
        "# Dimensi kedua Variabel\n",
        "print(random_tensor.shape)\n",
        "print(prime_tensor.shape)"
      ]
    },
    {
      "cell_type": "markdown",
      "id": "9b1ef26b",
      "metadata": {
        "id": "9b1ef26b"
      },
      "source": [
        "### 4. Tampilkan hasil dari perhitungan aritmetika 2 variable tersebut (Gunakan minimal 5 operator)## "
      ]
    },
    {
      "cell_type": "code",
      "execution_count": 206,
      "id": "76f104a9",
      "metadata": {
        "colab": {
          "base_uri": "https://localhost:8080/"
        },
        "id": "76f104a9",
        "outputId": "158c2c1a-ed7c-43ed-c64a-843c0b092d25"
      },
      "outputs": [
        {
          "output_type": "execute_result",
          "data": {
            "text/plain": [
              "array([[ 4.551979 ,  7.0903897,  7.8008604,  9.321536 , 14.381712 ],\n",
              "       [15.66678  , 19.505573 , 21.401075 , 25.742722 , 30.674145 ],\n",
              "       [33.561913 , 37.842667 , 44.530834 , 45.981483 , 49.582813 ],\n",
              "       [55.891144 , 63.837757 , 65.646385 , 69.23917  , 74.019226 ],\n",
              "       [75.07415  , 82.38294  , 86.79254  , 91.91791  , 99.91927  ]],\n",
              "      dtype=float32)"
            ]
          },
          "metadata": {},
          "execution_count": 206
        }
      ],
      "source": [
        "# Add\n",
        "tf.add(random_tensor,prime_tensor).numpy()"
      ]
    },
    {
      "cell_type": "code",
      "execution_count": 207,
      "id": "68f5cdf6",
      "metadata": {
        "colab": {
          "base_uri": "https://localhost:8080/"
        },
        "id": "68f5cdf6",
        "outputId": "c48602eb-f960-4180-a2f6-4df61634b3bc"
      },
      "outputs": [
        {
          "output_type": "execute_result",
          "data": {
            "text/plain": [
              "array([[  5.1039577,  12.27117  ,  14.004303 ,  16.250751 ,  37.198837 ],\n",
              "       [ 34.66814  ,  42.594746 ,  45.620422 ,  63.08261  ,  48.55018  ],\n",
              "       [ 79.41923  ,  31.178656 , 144.76419  , 128.20377  , 121.392204 ],\n",
              "       [153.23067  , 285.42758  , 283.42932  , 150.02435  , 214.36517  ],\n",
              "       [151.41289  , 267.2527   , 314.78107  , 259.6936   , 283.1697   ]],\n",
              "      dtype=float32)"
            ]
          },
          "metadata": {},
          "execution_count": 207
        }
      ],
      "source": [
        "# Multiply\n",
        "tf.multiply(random_tensor,prime_tensor).numpy()"
      ]
    },
    {
      "cell_type": "code",
      "execution_count": 208,
      "id": "e0771768",
      "metadata": {
        "colab": {
          "base_uri": "https://localhost:8080/"
        },
        "id": "e0771768",
        "outputId": "edb441ed-d739-4c0c-d4c7-eb5b7da77510"
      },
      "outputs": [
        {
          "output_type": "execute_result",
          "data": {
            "text/plain": [
              "array([[1.2759894 , 1.3634633 , 0.56017214, 0.33164802, 0.3074284 ],\n",
              "       [0.20513692, 0.14738667, 0.12637237, 0.11924879, 0.05772911],\n",
              "       [0.08264228, 0.02277477, 0.0861179 , 0.06933682, 0.05495346],\n",
              "       [0.0545499 , 0.08199586, 0.0761702 , 0.03342044, 0.04252433],\n",
              "       [0.028413  , 0.04282209, 0.04569329, 0.03278546, 0.03009562]],\n",
              "      dtype=float32)"
            ]
          },
          "metadata": {},
          "execution_count": 208
        }
      ],
      "source": [
        "# Divide\n",
        "tf.divide(random_tensor,prime_tensor).numpy()"
      ]
    },
    {
      "cell_type": "code",
      "execution_count": 209,
      "id": "38e046b7",
      "metadata": {
        "colab": {
          "base_uri": "https://localhost:8080/"
        },
        "id": "38e046b7",
        "outputId": "86d3e922-af11-47d1-ba24-2bc993b19784"
      },
      "outputs": [
        {
          "output_type": "execute_result",
          "data": {
            "text/plain": [
              "array([[  0.5519788,   1.0903897,  -2.1991394,  -4.678464 ,  -7.6182876],\n",
              "       [-10.33322  , -14.494427 , -16.598925 , -20.257278 , -27.325855 ],\n",
              "       [-28.43809  , -36.157333 , -37.469166 , -40.018517 , -44.417187 ],\n",
              "       [-50.108856 , -54.162243 , -56.35362  , -64.76083  , -67.980774 ],\n",
              "       [-70.92585  , -75.61706  , -79.20746  , -86.08209  , -94.08073  ]],\n",
              "      dtype=float32)"
            ]
          },
          "metadata": {},
          "execution_count": 209
        }
      ],
      "source": [
        "# Subtract\n",
        "tf.subtract(random_tensor,prime_tensor).numpy()"
      ]
    },
    {
      "cell_type": "code",
      "execution_count": 210,
      "id": "0f5b78ae",
      "metadata": {
        "colab": {
          "base_uri": "https://localhost:8080/"
        },
        "id": "0f5b78ae",
        "outputId": "b27ef0da-aa8c-44df-88d5-5b10d09c9ec0"
      },
      "outputs": [
        {
          "output_type": "execute_result",
          "data": {
            "text/plain": [
              "array([[6.5125957e+00, 6.8437492e+01, 1.7236835e+02, 3.6343607e+02,\n",
              "        6.6145975e+05],\n",
              "       [3.4501141e+05, 6.0453415e+06, 1.6893064e+07, 1.1972426e+10,\n",
              "        3.0902430e+06],\n",
              "       [4.6289582e+12, 1.7752512e-03, 2.9038159e+22, 2.5153035e+20,\n",
              "        2.3354339e+19],\n",
              "       [2.7333881e+24,           inf,           inf, 2.8564403e+23,\n",
              "        1.1819715e+34],\n",
              "       [1.3468477e+23,           inf,           inf,           inf,\n",
              "                  inf]], dtype=float32)"
            ]
          },
          "metadata": {},
          "execution_count": 210
        }
      ],
      "source": [
        "# Power of\n",
        "tf.pow(random_tensor,prime_tensor).numpy()"
      ]
    },
    {
      "cell_type": "markdown",
      "id": "77236aa5",
      "metadata": {
        "id": "77236aa5"
      },
      "source": [
        "### 5. Tampilkan nilai maksimal dan minimal dari variable random_tensor"
      ]
    },
    {
      "cell_type": "code",
      "execution_count": 211,
      "id": "8b889981",
      "metadata": {
        "colab": {
          "base_uri": "https://localhost:8080/"
        },
        "id": "8b889981",
        "outputId": "6b818f04-c5b4-48b1-91fe-f487bee2617f"
      },
      "outputs": [
        {
          "output_type": "execute_result",
          "data": {
            "text/plain": [
              "array([3, 3, 3, 2, 0])"
            ]
          },
          "metadata": {},
          "execution_count": 211
        }
      ],
      "source": [
        "tf.argmax(random_tensor, axis=0).numpy()"
      ]
    },
    {
      "cell_type": "code",
      "execution_count": 212,
      "id": "60f1528b",
      "metadata": {
        "colab": {
          "base_uri": "https://localhost:8080/"
        },
        "id": "60f1528b",
        "outputId": "e7d33f1b-ac6a-48fe-f966-f44c642dffef"
      },
      "outputs": [
        {
          "output_type": "execute_result",
          "data": {
            "text/plain": [
              "array([4, 2, 1, 3, 1])"
            ]
          },
          "metadata": {},
          "execution_count": 212
        }
      ],
      "source": [
        "tf.argmin(random_tensor, axis=0).numpy()"
      ]
    },
    {
      "cell_type": "markdown",
      "id": "e2ddb83f",
      "metadata": {
        "id": "e2ddb83f"
      },
      "source": [
        "### 6. Tampilkan hasil dari penggabungan variable random_tensor dengan prime_tensor (concatenation)"
      ]
    },
    {
      "cell_type": "code",
      "execution_count": 213,
      "id": "b2799d13",
      "metadata": {
        "colab": {
          "base_uri": "https://localhost:8080/"
        },
        "id": "b2799d13",
        "outputId": "664ea227-d3fb-463d-cc2a-c6a7a3151808"
      },
      "outputs": [
        {
          "output_type": "stream",
          "name": "stdout",
          "text": [
            "Before : (5, 5) (5, 5)\n"
          ]
        }
      ],
      "source": [
        "print(f\"Before : {random_tensor.shape} {prime_tensor.shape}\" )"
      ]
    },
    {
      "cell_type": "code",
      "execution_count": 214,
      "id": "bceebe60",
      "metadata": {
        "colab": {
          "base_uri": "https://localhost:8080/"
        },
        "id": "bceebe60",
        "outputId": "bd9b751f-d608-4a3d-8f5a-d23bcf25271c"
      },
      "outputs": [
        {
          "output_type": "stream",
          "name": "stdout",
          "text": [
            "After (axis = 0) : (10, 5)\n",
            "After (axis = 1) : (5, 10)\n"
          ]
        }
      ],
      "source": [
        "# Setelah\n",
        "concat_tensor_1 = tf.concat([random_tensor, prime_tensor], axis=0)\n",
        "concat_tensor_2 = tf.concat([random_tensor, prime_tensor], axis=1)\n",
        "print(f\"After (axis = 0) : {concat_tensor_1.shape}\")\n",
        "print(f\"After (axis = 1) : {concat_tensor_2.shape}\")"
      ]
    },
    {
      "cell_type": "markdown",
      "id": "0211bb42",
      "metadata": {
        "id": "0211bb42"
      },
      "source": [
        "### 7. Tampilkan hasil sorting dari kedua variable di atas. (descending)"
      ]
    },
    {
      "cell_type": "code",
      "execution_count": 215,
      "id": "fc2d587a",
      "metadata": {
        "colab": {
          "base_uri": "https://localhost:8080/"
        },
        "id": "fc2d587a",
        "outputId": "a55b6cee-fa0f-4e2c-bb2f-25a0454d7a4b"
      },
      "outputs": [
        {
          "output_type": "stream",
          "name": "stdout",
          "text": [
            "Random Tensor:\n",
            " [[4.0903897 3.3817124 2.8008606 2.5519788 2.321536 ]\n",
            " [2.7427223 2.66678   2.5055733 2.401075  1.6741441]\n",
            " [3.530834  2.981483  2.5828128 2.5619106 0.8426664]\n",
            " [4.8377557 4.6463823 3.0192277 2.8911448 2.2391694]\n",
            " [3.792543  3.3829453 2.9192753 2.9179056 2.0741491]]\n",
            "\n",
            "\n",
            "\n",
            "Prime Tensor:\n",
            " [[11.  7.  5.  3.  2.]\n",
            " [29. 23. 19. 17. 13.]\n",
            " [47. 43. 41. 37. 31.]\n",
            " [71. 67. 61. 59. 53.]\n",
            " [97. 89. 83. 79. 73.]]\n"
          ]
        }
      ],
      "source": [
        "# random_tensor\n",
        "random = tf.sort(random_tensor, direction=\"DESCENDING\").numpy()\n",
        "\n",
        "# prime_tensor\n",
        "prime = tf.sort(prime_tensor, direction=\"DESCENDING\").numpy()\n",
        "\n",
        "\n",
        "print('Random Tensor:\\n', random)\n",
        "print('\\n\\n')\n",
        "print('Prime Tensor:\\n', prime)"
      ]
    }
  ],
  "metadata": {
    "kernelspec": {
      "display_name": "Python 3 (ipykernel)",
      "language": "python",
      "name": "python3"
    },
    "language_info": {
      "codemirror_mode": {
        "name": "ipython",
        "version": 3
      },
      "file_extension": ".py",
      "mimetype": "text/x-python",
      "name": "python",
      "nbconvert_exporter": "python",
      "pygments_lexer": "ipython3",
      "version": "3.10.7"
    },
    "vscode": {
      "interpreter": {
        "hash": "afb734500600fd355917ca529030176ea0ca205570884b88f2f6f7d791fd3fbe"
      }
    },
    "colab": {
      "provenance": [],
      "collapsed_sections": []
    }
  },
  "nbformat": 4,
  "nbformat_minor": 5
}