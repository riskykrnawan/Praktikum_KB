{
  "nbformat": 4,
  "nbformat_minor": 0,
  "metadata": {
    "colab": {
      "provenance": [],
      "collapsed_sections": []
    },
    "kernelspec": {
      "name": "python3",
      "display_name": "Python 3"
    },
    "language_info": {
      "name": "python"
    },
    "accelerator": "GPU",
    "gpuClass": "standard"
  },
  "cells": [
    {
      "cell_type": "code",
      "execution_count": 34,
      "metadata": {
        "id": "sKH7-24Ik7wr"
      },
      "outputs": [],
      "source": [
        "import numpy as np\n",
        "import pandas as pd\n",
        "\n",
        "# plot\n",
        "import matplotlib.pyplot as plt\n",
        "import urllib.request\n",
        "\n",
        "# tf\n",
        "import tensorflow as tf\n",
        "from keras_preprocessing.image import ImageDataGenerator"
      ]
    },
    {
      "cell_type": "markdown",
      "source": [
        "## URL Dataset"
      ],
      "metadata": {
        "id": "vD82h14S0DAF"
      }
    },
    {
      "cell_type": "code",
      "source": [
        "from google.colab import drive\n",
        "drive.mount('/content/drive')"
      ],
      "metadata": {
        "colab": {
          "base_uri": "https://localhost:8080/"
        },
        "id": "EF0y0lrrJV-p",
        "outputId": "961a5196-3fe4-4546-f1bf-ea7168621997"
      },
      "execution_count": 35,
      "outputs": [
        {
          "output_type": "stream",
          "name": "stdout",
          "text": [
            "Drive already mounted at /content/drive; to attempt to forcibly remount, call drive.mount(\"/content/drive\", force_remount=True).\n"
          ]
        }
      ]
    },
    {
      "cell_type": "markdown",
      "source": [
        "url relative path ke dataset"
      ],
      "metadata": {
        "id": "hBf5MaISwP1A"
      }
    },
    {
      "cell_type": "code",
      "source": [
        "url = '/content/drive/MyDrive/Dataset'"
      ],
      "metadata": {
        "id": "-NfOYBUcJdCl"
      },
      "execution_count": 36,
      "outputs": []
    },
    {
      "cell_type": "markdown",
      "source": [
        "# Data Train & Validation"
      ],
      "metadata": {
        "id": "KTRd7_gQ0jme"
      }
    },
    {
      "cell_type": "markdown",
      "source": [
        "Disini saya menggunakan Image data generator dan batch size sebanyak 128\n",
        "untuk validation, saya menggunakan 20% data.\n",
        "Kemudian untuk subset training dan validation, target size nya adalah 120."
      ],
      "metadata": {
        "id": "f-voTqnW12yF"
      }
    },
    {
      "cell_type": "code",
      "source": [
        "batch_size = 128\n",
        "\n",
        "train_image_generator = ImageDataGenerator(\n",
        "    rescale=1./255, \n",
        "    validation_split=0.3,\n",
        "    rotation_range=45,\n",
        "    horizontal_flip=True,\n",
        "    )\n",
        "\n",
        "train = train_image_generator.flow_from_directory(\n",
        "    url, \n",
        "    target_size=(120,120),\n",
        "    batch_size=batch_size, \n",
        "    subset='training'\n",
        "    )\n",
        "\n",
        "val = train_image_generator.flow_from_directory(\n",
        "    url, \n",
        "    target_size=(120,120),\n",
        "    batch_size=batch_size,\n",
        "    subset='validation'\n",
        "    )"
      ],
      "metadata": {
        "colab": {
          "base_uri": "https://localhost:8080/"
        },
        "id": "Hq3Pe7fLJyn-",
        "outputId": "08ad8d1b-5d62-4c5f-aab8-83297d8c272c"
      },
      "execution_count": 37,
      "outputs": [
        {
          "output_type": "stream",
          "name": "stdout",
          "text": [
            "Found 3116 images belonging to 5 classes.\n",
            "Found 1333 images belonging to 5 classes.\n"
          ]
        }
      ]
    },
    {
      "cell_type": "markdown",
      "source": [
        "# Model "
      ],
      "metadata": {
        "id": "phDD9wZz0Jhx"
      }
    },
    {
      "cell_type": "markdown",
      "source": [
        "Pada syntax di atas model dibentuk dengan suatu layer convo 2 dimensi dari size 120 x 120 pixels dimana fungsi aktivasinya adalah. Terdapat dua pembuatan layer convo, sehingga dilanjutkan dengan pembuatan layer max pooling dan pembuatan layer dropout. Karena ini adalah pelatihan deep learning maka perlu pelatihan lagi dengan membuat lagi layer untuk pelatihan. Kemudian dilanjutkan dengan layer flatten dan layer dense sampai dengan proses kompilasi.\n",
        "\n"
      ],
      "metadata": {
        "id": "30_h3xrC0U_Q"
      }
    },
    {
      "cell_type": "code",
      "source": [
        "model = tf.keras.Sequential([\n",
        "    tf.keras.layers.Conv2D(\n",
        "        64, \n",
        "        (3,3), \n",
        "        activation='relu',\n",
        "        input_shape=(120, 120, 3), \n",
        "        padding='same'\n",
        "        ),\n",
        "\n",
        "      tf.keras.layers.Conv2D(\n",
        "        64, (3,3), \n",
        "        activation='relu',\n",
        "        input_shape=(120, 120, 3),\n",
        "        padding='same'\n",
        "        ),\n",
        "    tf.keras.layers.MaxPooling2D(2, 2),\n",
        "    tf.keras.layers.Dropout(0.3),\n",
        "\n",
        "    tf.keras.layers.Conv2D(\n",
        "        256, \n",
        "        (3,3), \n",
        "        activation='relu', \n",
        "        padding='same'\n",
        "        ),\n",
        "    \n",
        "    tf.keras.layers.Conv2D(\n",
        "      256, \n",
        "      (3,3), \n",
        "      activation='relu',\n",
        "      padding='same'\n",
        "      ),\n",
        "    tf.keras.layers.MaxPooling2D(2, 2),\n",
        "    tf.keras.layers.Dropout(0.3),\n",
        "    \n",
        "\n",
        "    tf.keras.layers.Flatten(),\n",
        "    tf.keras.layers.Dense(1024, activation='relu'),\n",
        "    tf.keras.layers.Dropout(0.5),\n",
        "\n",
        "    tf.keras.layers.Dense(512, activation='relu'),\n",
        "    tf.keras.layers.Dropout(0.5),\n",
        "    tf.keras.layers.Dense(5, activation='softmax')     \n",
        "])\n",
        "\n",
        "model.compile(loss = 'categorical_crossentropy', optimizer='adam', \n",
        "              metrics=['accuracy'])\n"
      ],
      "metadata": {
        "id": "KKASX8IMKDe5"
      },
      "execution_count": 38,
      "outputs": []
    },
    {
      "cell_type": "code",
      "source": [
        "model.summary()"
      ],
      "metadata": {
        "colab": {
          "base_uri": "https://localhost:8080/"
        },
        "id": "zQhZ89wtL9Hf",
        "outputId": "ee37ed2c-0899-4612-e308-ea0451c6ed64"
      },
      "execution_count": 39,
      "outputs": [
        {
          "output_type": "stream",
          "name": "stdout",
          "text": [
            "Model: \"sequential_4\"\n",
            "_________________________________________________________________\n",
            " Layer (type)                Output Shape              Param #   \n",
            "=================================================================\n",
            " conv2d_18 (Conv2D)          (None, 120, 120, 64)      1792      \n",
            "                                                                 \n",
            " conv2d_19 (Conv2D)          (None, 120, 120, 64)      36928     \n",
            "                                                                 \n",
            " max_pooling2d_12 (MaxPoolin  (None, 60, 60, 64)       0         \n",
            " g2D)                                                            \n",
            "                                                                 \n",
            " dropout_20 (Dropout)        (None, 60, 60, 64)        0         \n",
            "                                                                 \n",
            " conv2d_20 (Conv2D)          (None, 60, 60, 256)       147712    \n",
            "                                                                 \n",
            " conv2d_21 (Conv2D)          (None, 60, 60, 256)       590080    \n",
            "                                                                 \n",
            " max_pooling2d_13 (MaxPoolin  (None, 30, 30, 256)      0         \n",
            " g2D)                                                            \n",
            "                                                                 \n",
            " dropout_21 (Dropout)        (None, 30, 30, 256)       0         \n",
            "                                                                 \n",
            " flatten_4 (Flatten)         (None, 230400)            0         \n",
            "                                                                 \n",
            " dense_12 (Dense)            (None, 1024)              235930624 \n",
            "                                                                 \n",
            " dropout_22 (Dropout)        (None, 1024)              0         \n",
            "                                                                 \n",
            " dense_13 (Dense)            (None, 512)               524800    \n",
            "                                                                 \n",
            " dropout_23 (Dropout)        (None, 512)               0         \n",
            "                                                                 \n",
            " dense_14 (Dense)            (None, 5)                 2565      \n",
            "                                                                 \n",
            "=================================================================\n",
            "Total params: 237,234,501\n",
            "Trainable params: 237,234,501\n",
            "Non-trainable params: 0\n",
            "_________________________________________________________________\n"
          ]
        }
      ]
    },
    {
      "cell_type": "code",
      "source": [
        "steps, val_steps = train.n/batch_size, val.n/batch_size\n",
        "num_epochs = 50"
      ],
      "metadata": {
        "id": "qUlStieAL-IA"
      },
      "execution_count": 40,
      "outputs": []
    },
    {
      "cell_type": "markdown",
      "source": [
        "epoch dibuat sebanyak 50"
      ],
      "metadata": {
        "id": "_epCVuzj1v5h"
      }
    },
    {
      "cell_type": "code",
      "source": [
        "history = model.fit(train, validation_data=val, epochs=num_epochs,\n",
        "                    steps_per_epoch=steps, validation_steps=val_steps)"
      ],
      "metadata": {
        "colab": {
          "base_uri": "https://localhost:8080/"
        },
        "id": "Rme48RVqL--8",
        "outputId": "923bffd6-be76-4f96-848c-2b97ed019989"
      },
      "execution_count": 41,
      "outputs": [
        {
          "output_type": "stream",
          "name": "stdout",
          "text": [
            "Epoch 1/50\n",
            "24/24 [==============================] - 36s 1s/step - loss: 2.2400 - accuracy: 0.2516 - val_loss: 1.5423 - val_accuracy: 0.2903\n",
            "Epoch 2/50\n",
            "24/24 [==============================] - 30s 1s/step - loss: 1.5156 - accuracy: 0.3155 - val_loss: 1.5586 - val_accuracy: 0.3653\n",
            "Epoch 3/50\n",
            "24/24 [==============================] - 30s 1s/step - loss: 1.4522 - accuracy: 0.3623 - val_loss: 1.4669 - val_accuracy: 0.3383\n",
            "Epoch 4/50\n",
            "24/24 [==============================] - 31s 1s/step - loss: 1.4028 - accuracy: 0.3678 - val_loss: 1.4347 - val_accuracy: 0.3578\n",
            "Epoch 5/50\n",
            "24/24 [==============================] - 30s 1s/step - loss: 1.3688 - accuracy: 0.3960 - val_loss: 1.4020 - val_accuracy: 0.3683\n",
            "Epoch 6/50\n",
            "24/24 [==============================] - 31s 1s/step - loss: 1.3082 - accuracy: 0.4249 - val_loss: 1.3584 - val_accuracy: 0.4029\n",
            "Epoch 7/50\n",
            "24/24 [==============================] - 31s 1s/step - loss: 1.2985 - accuracy: 0.4393 - val_loss: 1.3066 - val_accuracy: 0.4456\n",
            "Epoch 8/50\n",
            "24/24 [==============================] - 31s 1s/step - loss: 1.2218 - accuracy: 0.4904 - val_loss: 1.3556 - val_accuracy: 0.4411\n",
            "Epoch 9/50\n",
            "24/24 [==============================] - 31s 1s/step - loss: 1.1991 - accuracy: 0.5096 - val_loss: 1.2725 - val_accuracy: 0.4554\n",
            "Epoch 10/50\n",
            "24/24 [==============================] - 32s 1s/step - loss: 1.1721 - accuracy: 0.5128 - val_loss: 1.2388 - val_accuracy: 0.5094\n",
            "Epoch 11/50\n",
            "24/24 [==============================] - 31s 1s/step - loss: 1.1229 - accuracy: 0.5292 - val_loss: 1.2169 - val_accuracy: 0.5274\n",
            "Epoch 12/50\n",
            "24/24 [==============================] - 32s 1s/step - loss: 1.0834 - accuracy: 0.5549 - val_loss: 1.1495 - val_accuracy: 0.5634\n",
            "Epoch 13/50\n",
            "24/24 [==============================] - 30s 1s/step - loss: 1.0885 - accuracy: 0.5677 - val_loss: 1.1505 - val_accuracy: 0.5371\n",
            "Epoch 14/50\n",
            "24/24 [==============================] - 31s 1s/step - loss: 1.0484 - accuracy: 0.5773 - val_loss: 1.1175 - val_accuracy: 0.5664\n",
            "Epoch 15/50\n",
            "24/24 [==============================] - 30s 1s/step - loss: 1.0173 - accuracy: 0.5956 - val_loss: 1.0703 - val_accuracy: 0.5806\n",
            "Epoch 16/50\n",
            "24/24 [==============================] - 31s 1s/step - loss: 1.0046 - accuracy: 0.5940 - val_loss: 1.0713 - val_accuracy: 0.5934\n",
            "Epoch 17/50\n",
            "24/24 [==============================] - 31s 1s/step - loss: 0.9561 - accuracy: 0.6165 - val_loss: 1.0964 - val_accuracy: 0.5926\n",
            "Epoch 18/50\n",
            "24/24 [==============================] - 30s 1s/step - loss: 0.9399 - accuracy: 0.6210 - val_loss: 0.9876 - val_accuracy: 0.6257\n",
            "Epoch 19/50\n",
            "24/24 [==============================] - 32s 1s/step - loss: 0.9175 - accuracy: 0.6412 - val_loss: 1.0207 - val_accuracy: 0.6204\n",
            "Epoch 20/50\n",
            "24/24 [==============================] - 31s 1s/step - loss: 0.9490 - accuracy: 0.6300 - val_loss: 1.0719 - val_accuracy: 0.5949\n",
            "Epoch 21/50\n",
            "24/24 [==============================] - 32s 1s/step - loss: 0.8905 - accuracy: 0.6566 - val_loss: 0.9585 - val_accuracy: 0.6467\n",
            "Epoch 22/50\n",
            "24/24 [==============================] - 30s 1s/step - loss: 0.8681 - accuracy: 0.6547 - val_loss: 1.0122 - val_accuracy: 0.6204\n",
            "Epoch 23/50\n",
            "24/24 [==============================] - 32s 1s/step - loss: 0.8772 - accuracy: 0.6496 - val_loss: 0.9814 - val_accuracy: 0.6407\n",
            "Epoch 24/50\n",
            "24/24 [==============================] - 30s 1s/step - loss: 0.8687 - accuracy: 0.6698 - val_loss: 0.9729 - val_accuracy: 0.6444\n",
            "Epoch 25/50\n",
            "24/24 [==============================] - 31s 1s/step - loss: 0.8317 - accuracy: 0.6701 - val_loss: 1.0634 - val_accuracy: 0.6114\n",
            "Epoch 26/50\n",
            "24/24 [==============================] - 31s 1s/step - loss: 0.8505 - accuracy: 0.6694 - val_loss: 0.9991 - val_accuracy: 0.6114\n",
            "Epoch 27/50\n",
            "24/24 [==============================] - 32s 1s/step - loss: 0.8230 - accuracy: 0.6781 - val_loss: 1.0604 - val_accuracy: 0.6077\n",
            "Epoch 28/50\n",
            "24/24 [==============================] - 31s 1s/step - loss: 0.8112 - accuracy: 0.6813 - val_loss: 0.9950 - val_accuracy: 0.6437\n",
            "Epoch 29/50\n",
            "24/24 [==============================] - 32s 1s/step - loss: 0.8081 - accuracy: 0.6849 - val_loss: 1.0196 - val_accuracy: 0.6264\n",
            "Epoch 30/50\n",
            "24/24 [==============================] - 31s 1s/step - loss: 0.8119 - accuracy: 0.6823 - val_loss: 1.0509 - val_accuracy: 0.6339\n",
            "Epoch 31/50\n",
            "24/24 [==============================] - 32s 1s/step - loss: 0.7888 - accuracy: 0.6945 - val_loss: 0.9526 - val_accuracy: 0.6534\n",
            "Epoch 32/50\n",
            "24/24 [==============================] - 31s 1s/step - loss: 0.7765 - accuracy: 0.6964 - val_loss: 0.9704 - val_accuracy: 0.6354\n",
            "Epoch 33/50\n",
            "24/24 [==============================] - 32s 1s/step - loss: 0.7472 - accuracy: 0.7131 - val_loss: 0.9931 - val_accuracy: 0.6399\n",
            "Epoch 34/50\n",
            "24/24 [==============================] - 31s 1s/step - loss: 0.7409 - accuracy: 0.7169 - val_loss: 0.9272 - val_accuracy: 0.6624\n",
            "Epoch 35/50\n",
            "24/24 [==============================] - 32s 1s/step - loss: 0.7339 - accuracy: 0.7218 - val_loss: 0.9409 - val_accuracy: 0.6752\n",
            "Epoch 36/50\n",
            "24/24 [==============================] - 31s 1s/step - loss: 0.7174 - accuracy: 0.7269 - val_loss: 0.9952 - val_accuracy: 0.6557\n",
            "Epoch 37/50\n",
            "24/24 [==============================] - 32s 1s/step - loss: 0.7334 - accuracy: 0.7237 - val_loss: 1.0480 - val_accuracy: 0.6347\n",
            "Epoch 38/50\n",
            "24/24 [==============================] - 31s 1s/step - loss: 0.7099 - accuracy: 0.7208 - val_loss: 0.9801 - val_accuracy: 0.6594\n",
            "Epoch 39/50\n",
            "24/24 [==============================] - 32s 1s/step - loss: 0.7207 - accuracy: 0.7211 - val_loss: 0.9058 - val_accuracy: 0.6789\n",
            "Epoch 40/50\n",
            "24/24 [==============================] - 30s 1s/step - loss: 0.6964 - accuracy: 0.7279 - val_loss: 0.9276 - val_accuracy: 0.6692\n",
            "Epoch 41/50\n",
            "24/24 [==============================] - 32s 1s/step - loss: 0.6875 - accuracy: 0.7343 - val_loss: 0.9270 - val_accuracy: 0.6774\n",
            "Epoch 42/50\n",
            "24/24 [==============================] - 30s 1s/step - loss: 0.6715 - accuracy: 0.7417 - val_loss: 0.9661 - val_accuracy: 0.6684\n",
            "Epoch 43/50\n",
            "24/24 [==============================] - 32s 1s/step - loss: 0.6662 - accuracy: 0.7362 - val_loss: 0.9178 - val_accuracy: 0.6827\n",
            "Epoch 44/50\n",
            "24/24 [==============================] - 31s 1s/step - loss: 0.6781 - accuracy: 0.7368 - val_loss: 0.9331 - val_accuracy: 0.6827\n",
            "Epoch 45/50\n",
            "24/24 [==============================] - 30s 1s/step - loss: 0.6665 - accuracy: 0.7433 - val_loss: 1.0098 - val_accuracy: 0.6699\n",
            "Epoch 46/50\n",
            "24/24 [==============================] - 32s 1s/step - loss: 0.6606 - accuracy: 0.7442 - val_loss: 0.9266 - val_accuracy: 0.6789\n",
            "Epoch 47/50\n",
            "24/24 [==============================] - 31s 1s/step - loss: 0.6522 - accuracy: 0.7526 - val_loss: 0.9122 - val_accuracy: 0.6767\n",
            "Epoch 48/50\n",
            "24/24 [==============================] - 32s 1s/step - loss: 0.6213 - accuracy: 0.7571 - val_loss: 0.9264 - val_accuracy: 0.6812\n",
            "Epoch 49/50\n",
            "24/24 [==============================] - 31s 1s/step - loss: 0.6158 - accuracy: 0.7686 - val_loss: 0.9180 - val_accuracy: 0.6819\n",
            "Epoch 50/50\n",
            "24/24 [==============================] - 32s 1s/step - loss: 0.6067 - accuracy: 0.7689 - val_loss: 0.8990 - val_accuracy: 0.6917\n"
          ]
        }
      ]
    },
    {
      "cell_type": "code",
      "source": [
        "acc = history.history['accuracy']\n",
        "val_acc = history.history['val_accuracy']\n",
        "\n",
        "epochs = range(len(acc))\n",
        "\n",
        "plt.plot(epochs, acc, 'r', label='Akurasi Training')\n",
        "plt.plot(epochs, val_acc, 'g', label='Akurasi Validation')\n",
        "\n",
        "plt.xlabel('Epochs')\n",
        "plt.ylabel('Akurasi')\n",
        "plt.title('Akurasi Training and validation')\n",
        "plt.grid(axis='both')\n",
        "\n",
        "plt.show() "
      ],
      "metadata": {
        "colab": {
          "base_uri": "https://localhost:8080/",
          "height": 295
        },
        "id": "qDLxoYDxMA5-",
        "outputId": "2a2f60e4-bbdf-4d83-91eb-8e9597b9c1ef"
      },
      "execution_count": 42,
      "outputs": [
        {
          "output_type": "display_data",
          "data": {
            "text/plain": [
              "<Figure size 432x288 with 1 Axes>"
            ],
            "image/png": "[encoded data removed]"
          },
          "metadata": {
            "needs_background": "light"
          }
        }
      ]
    }
  ]
}