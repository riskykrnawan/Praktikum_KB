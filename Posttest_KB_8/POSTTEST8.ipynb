{
  "nbformat": 4,
  "nbformat_minor": 0,
  "metadata": {
    "colab": {
      "provenance": [],
      "collapsed_sections": []
    },
    "kernelspec": {
      "name": "python3",
      "display_name": "Python 3"
    },
    "language_info": {
      "name": "python"
    },
    "accelerator": "GPU",
    "gpuClass": "standard"
  },
  "cells": [
    {
      "cell_type": "code",
      "execution_count": 12,
      "metadata": {
        "id": "sKH7-24Ik7wr"
      },
      "outputs": [],
      "source": [
        "import numpy as np\n",
        "import pandas as pd\n",
        "\n",
        "# plot\n",
        "import matplotlib.pyplot as plt\n",
        "import urllib.request\n",
        "\n",
        "# tf\n",
        "import tensorflow as tf\n",
        "from keras_preprocessing.image import ImageDataGenerator"
      ]
    },
    {
      "cell_type": "code",
      "source": [
        "from google.colab import drive\n",
        "drive.mount('/content/drive')"
      ],
      "metadata": {
        "colab": {
          "base_uri": "https://localhost:8080/"
        },
        "id": "EF0y0lrrJV-p",
        "outputId": "25dabfe1-884e-4f98-f1a5-71a14cf46528"
      },
      "execution_count": 13,
      "outputs": [
        {
          "output_type": "stream",
          "name": "stdout",
          "text": [
            "Drive already mounted at /content/drive; to attempt to forcibly remount, call drive.mount(\"/content/drive\", force_remount=True).\n"
          ]
        }
      ]
    },
    {
      "cell_type": "code",
      "source": [
        "url = '/content/drive/MyDrive/Dataset'"
      ],
      "metadata": {
        "id": "-NfOYBUcJdCl"
      },
      "execution_count": 14,
      "outputs": []
    },
    {
      "cell_type": "code",
      "source": [
        "batch_size = 128\n",
        "\n",
        "train_image_generator = ImageDataGenerator(\n",
        "    rescale=1./255, \n",
        "    validation_split=0.2,\n",
        "    rotation_range=40,\n",
        "    horizontal_flip=True,\n",
        "    )\n",
        "\n",
        "train = train_image_generator.flow_from_directory(\n",
        "    url, \n",
        "    target_size=(120,120),\n",
        "    batch_size=batch_size, \n",
        "    subset='training'\n",
        "    )\n",
        "\n",
        "val = train_image_generator.flow_from_directory(\n",
        "    url, \n",
        "    target_size=(120,120),\n",
        "    batch_size=batch_size,\n",
        "    subset='validation'\n",
        "    )"
      ],
      "metadata": {
        "colab": {
          "base_uri": "https://localhost:8080/"
        },
        "id": "Hq3Pe7fLJyn-",
        "outputId": "33f093be-322d-4a97-f800-8b60e58a7b53"
      },
      "execution_count": 22,
      "outputs": [
        {
          "output_type": "stream",
          "name": "stdout",
          "text": [
            "Found 3561 images belonging to 5 classes.\n",
            "Found 888 images belonging to 5 classes.\n"
          ]
        }
      ]
    },
    {
      "cell_type": "code",
      "source": [
        "# labels = ['Butterfly', 'Dragonfly', 'Grasshopper', 'Ladybird', 'Mosquito']\n",
        "# for i in range(15):\n",
        "#     if i%5==0:\n",
        "#         fig, ax = plt.subplots(ncols=5, figsize=(15,15))\n",
        "#     img, label = train.next()\n",
        "#     ax[i%5].imshow(img[2])\n",
        "#     ax[i%5].set_title(labels[np.argmax(label[2])])\n",
        "#     ax[i%5].grid(False)\n",
        "#     ax[i%5].axis(False)"
      ],
      "metadata": {
        "id": "-WGnfuTrKBJq"
      },
      "execution_count": 23,
      "outputs": []
    },
    {
      "cell_type": "code",
      "source": [
        "model = tf.keras.Sequential([\n",
        "    tf.keras.layers.Conv2D(\n",
        "        64, \n",
        "        (3,3), \n",
        "        activation='relu',\n",
        "        input_shape=(120, 120, 3), \n",
        "        padding='same'\n",
        "        ),\n",
        "\n",
        "      tf.keras.layers.Conv2D(\n",
        "        64, (3,3), \n",
        "        activation='relu',\n",
        "        input_shape=(120, 120, 3),\n",
        "        padding='same'\n",
        "        ),\n",
        "    tf.keras.layers.MaxPooling2D(2, 2),\n",
        "    tf.keras.layers.Dropout(0.3),\n",
        "\n",
        "    tf.keras.layers.Conv2D(\n",
        "        256, \n",
        "        (3,3), \n",
        "        activation='relu', \n",
        "        padding='same'\n",
        "        ),\n",
        "    \n",
        "    tf.keras.layers.Conv2D(\n",
        "      256, \n",
        "      (3,3), \n",
        "      activation='relu',\n",
        "      padding='same'\n",
        "      ),\n",
        "    tf.keras.layers.MaxPooling2D(2, 2),\n",
        "    tf.keras.layers.Dropout(0.3),\n",
        "    \n",
        "\n",
        "    tf.keras.layers.Flatten(),\n",
        "    tf.keras.layers.Dense(1024, activation='relu'),\n",
        "    tf.keras.layers.Dropout(0.5),\n",
        "\n",
        "    tf.keras.layers.Dense(512, activation='relu'),\n",
        "    tf.keras.layers.Dropout(0.5),\n",
        "    tf.keras.layers.Dense(5, activation='softmax')     \n",
        "])\n",
        "\n",
        "model.compile(loss = 'categorical_crossentropy', optimizer='adam', \n",
        "              metrics=['accuracy'])\n"
      ],
      "metadata": {
        "id": "KKASX8IMKDe5"
      },
      "execution_count": 24,
      "outputs": []
    },
    {
      "cell_type": "markdown",
      "source": [
        "Pada syntax pembentukan model dibuat suatu layer convo pertama dengan 2 dimensi dari size 150 x 150 pixels dimana aktivasi fungsi adalah relu. Pembuatan layer convo yang kedua, sehingga dilanjutkan dengan pembuatan layer max pooling dan pembuatan layer dropout. "
      ],
      "metadata": {
        "id": "kG5CwMH5Q5-d"
      }
    },
    {
      "cell_type": "code",
      "source": [
        "model.summary()"
      ],
      "metadata": {
        "colab": {
          "base_uri": "https://localhost:8080/"
        },
        "id": "zQhZ89wtL9Hf",
        "outputId": "7120d239-c558-490e-bedb-d4bce71e08f6"
      },
      "execution_count": 25,
      "outputs": [
        {
          "output_type": "stream",
          "name": "stdout",
          "text": [
            "Model: \"sequential_3\"\n",
            "_________________________________________________________________\n",
            " Layer (type)                Output Shape              Param #   \n",
            "=================================================================\n",
            " conv2d_14 (Conv2D)          (None, 120, 120, 64)      1792      \n",
            "                                                                 \n",
            " conv2d_15 (Conv2D)          (None, 120, 120, 64)      36928     \n",
            "                                                                 \n",
            " max_pooling2d_10 (MaxPoolin  (None, 60, 60, 64)       0         \n",
            " g2D)                                                            \n",
            "                                                                 \n",
            " dropout_16 (Dropout)        (None, 60, 60, 64)        0         \n",
            "                                                                 \n",
            " conv2d_16 (Conv2D)          (None, 60, 60, 256)       147712    \n",
            "                                                                 \n",
            " conv2d_17 (Conv2D)          (None, 60, 60, 256)       590080    \n",
            "                                                                 \n",
            " max_pooling2d_11 (MaxPoolin  (None, 30, 30, 256)      0         \n",
            " g2D)                                                            \n",
            "                                                                 \n",
            " dropout_17 (Dropout)        (None, 30, 30, 256)       0         \n",
            "                                                                 \n",
            " flatten_3 (Flatten)         (None, 230400)            0         \n",
            "                                                                 \n",
            " dense_9 (Dense)             (None, 1024)              235930624 \n",
            "                                                                 \n",
            " dropout_18 (Dropout)        (None, 1024)              0         \n",
            "                                                                 \n",
            " dense_10 (Dense)            (None, 512)               524800    \n",
            "                                                                 \n",
            " dropout_19 (Dropout)        (None, 512)               0         \n",
            "                                                                 \n",
            " dense_11 (Dense)            (None, 5)                 2565      \n",
            "                                                                 \n",
            "=================================================================\n",
            "Total params: 237,234,501\n",
            "Trainable params: 237,234,501\n",
            "Non-trainable params: 0\n",
            "_________________________________________________________________\n"
          ]
        }
      ]
    },
    {
      "cell_type": "code",
      "source": [
        "steps, val_steps = train.n/batch_size, val.n/batch_size\n",
        "num_epochs = 50"
      ],
      "metadata": {
        "id": "qUlStieAL-IA"
      },
      "execution_count": 28,
      "outputs": []
    },
    {
      "cell_type": "code",
      "source": [
        "history = model.fit(train, validation_data=val, epochs=num_epochs,\n",
        "                    steps_per_epoch=steps, validation_steps=val_steps)"
      ],
      "metadata": {
        "colab": {
          "base_uri": "https://localhost:8080/"
        },
        "id": "Rme48RVqL--8",
        "outputId": "bf227e32-cad4-4155-cb40-9605af22e384"
      },
      "execution_count": 29,
      "outputs": [
        {
          "output_type": "stream",
          "name": "stdout",
          "text": [
            "Epoch 1/50\n",
            "27/27 [==============================] - 35s 1s/step - loss: 1.7431 - accuracy: 0.2213 - val_loss: 1.5866 - val_accuracy: 0.3108\n",
            "Epoch 2/50\n",
            "27/27 [==============================] - 30s 1s/step - loss: 1.6006 - accuracy: 0.2421 - val_loss: 1.5796 - val_accuracy: 0.3198\n",
            "Epoch 3/50\n",
            "27/27 [==============================] - 31s 1s/step - loss: 1.5031 - accuracy: 0.3336 - val_loss: 1.5290 - val_accuracy: 0.3164\n",
            "Epoch 4/50\n",
            "27/27 [==============================] - 31s 1s/step - loss: 1.4056 - accuracy: 0.3797 - val_loss: 1.4759 - val_accuracy: 0.3514\n",
            "Epoch 5/50\n",
            "27/27 [==============================] - 32s 1s/step - loss: 1.3416 - accuracy: 0.4167 - val_loss: 1.4401 - val_accuracy: 0.3592\n",
            "Epoch 6/50\n",
            "27/27 [==============================] - 31s 1s/step - loss: 1.3002 - accuracy: 0.4358 - val_loss: 1.3366 - val_accuracy: 0.4651\n",
            "Epoch 7/50\n",
            "27/27 [==============================] - 31s 1s/step - loss: 1.2528 - accuracy: 0.4732 - val_loss: 1.3043 - val_accuracy: 0.4651\n",
            "Epoch 8/50\n",
            "27/27 [==============================] - 31s 1s/step - loss: 1.2038 - accuracy: 0.4987 - val_loss: 1.2217 - val_accuracy: 0.4876\n",
            "Epoch 9/50\n",
            "27/27 [==============================] - 32s 1s/step - loss: 1.1622 - accuracy: 0.5190 - val_loss: 1.2520 - val_accuracy: 0.5090\n",
            "Epoch 10/50\n",
            "27/27 [==============================] - 31s 1s/step - loss: 1.1347 - accuracy: 0.5375 - val_loss: 1.1478 - val_accuracy: 0.5563\n",
            "Epoch 11/50\n",
            "27/27 [==============================] - 31s 1s/step - loss: 1.0913 - accuracy: 0.5639 - val_loss: 1.1263 - val_accuracy: 0.5484\n",
            "Epoch 12/50\n",
            "27/27 [==============================] - 32s 1s/step - loss: 1.0950 - accuracy: 0.5642 - val_loss: 1.1322 - val_accuracy: 0.5495\n",
            "Epoch 13/50\n",
            "27/27 [==============================] - 31s 1s/step - loss: 1.0585 - accuracy: 0.5785 - val_loss: 1.1098 - val_accuracy: 0.5743\n",
            "Epoch 14/50\n",
            "27/27 [==============================] - 32s 1s/step - loss: 1.0155 - accuracy: 0.6012 - val_loss: 1.0617 - val_accuracy: 0.5980\n",
            "Epoch 15/50\n",
            "27/27 [==============================] - 30s 1s/step - loss: 1.0120 - accuracy: 0.6125 - val_loss: 1.0725 - val_accuracy: 0.6047\n",
            "Epoch 16/50\n",
            "27/27 [==============================] - 32s 1s/step - loss: 0.9749 - accuracy: 0.6142 - val_loss: 1.0430 - val_accuracy: 0.5856\n",
            "Epoch 17/50\n",
            "27/27 [==============================] - 31s 1s/step - loss: 0.9605 - accuracy: 0.6153 - val_loss: 1.0207 - val_accuracy: 0.6171\n",
            "Epoch 18/50\n",
            "27/27 [==============================] - 32s 1s/step - loss: 0.9383 - accuracy: 0.6262 - val_loss: 1.1985 - val_accuracy: 0.5518\n",
            "Epoch 19/50\n",
            "27/27 [==============================] - 31s 1s/step - loss: 0.9177 - accuracy: 0.6495 - val_loss: 1.0123 - val_accuracy: 0.6239\n",
            "Epoch 20/50\n",
            "27/27 [==============================] - 32s 1s/step - loss: 0.9268 - accuracy: 0.6414 - val_loss: 1.0427 - val_accuracy: 0.6126\n",
            "Epoch 21/50\n",
            "27/27 [==============================] - 31s 1s/step - loss: 0.9020 - accuracy: 0.6375 - val_loss: 1.0009 - val_accuracy: 0.6239\n",
            "Epoch 22/50\n",
            "27/27 [==============================] - 32s 1s/step - loss: 0.8851 - accuracy: 0.6532 - val_loss: 0.9786 - val_accuracy: 0.6385\n",
            "Epoch 23/50\n",
            "27/27 [==============================] - 31s 1s/step - loss: 0.8702 - accuracy: 0.6661 - val_loss: 1.0297 - val_accuracy: 0.6318\n",
            "Epoch 24/50\n",
            "27/27 [==============================] - 31s 1s/step - loss: 0.8472 - accuracy: 0.6757 - val_loss: 1.0032 - val_accuracy: 0.6453\n",
            "Epoch 25/50\n",
            "27/27 [==============================] - 31s 1s/step - loss: 0.8111 - accuracy: 0.6891 - val_loss: 0.9876 - val_accuracy: 0.6363\n",
            "Epoch 26/50\n",
            "27/27 [==============================] - 31s 1s/step - loss: 0.8193 - accuracy: 0.6886 - val_loss: 0.9343 - val_accuracy: 0.6700\n",
            "Epoch 27/50\n",
            "27/27 [==============================] - 31s 1s/step - loss: 0.7899 - accuracy: 0.7018 - val_loss: 0.9249 - val_accuracy: 0.6599\n",
            "Epoch 28/50\n",
            "27/27 [==============================] - 32s 1s/step - loss: 0.7884 - accuracy: 0.7012 - val_loss: 0.9441 - val_accuracy: 0.6374\n",
            "Epoch 29/50\n",
            "27/27 [==============================] - 31s 1s/step - loss: 0.7715 - accuracy: 0.7046 - val_loss: 0.9403 - val_accuracy: 0.6622\n",
            "Epoch 30/50\n",
            "27/27 [==============================] - 31s 1s/step - loss: 0.7489 - accuracy: 0.7127 - val_loss: 0.9744 - val_accuracy: 0.6396\n",
            "Epoch 31/50\n",
            "27/27 [==============================] - 31s 1s/step - loss: 0.7136 - accuracy: 0.7296 - val_loss: 0.8983 - val_accuracy: 0.6734\n",
            "Epoch 32/50\n",
            "27/27 [==============================] - 31s 1s/step - loss: 0.7191 - accuracy: 0.7338 - val_loss: 0.9463 - val_accuracy: 0.6622\n",
            "Epoch 33/50\n",
            "27/27 [==============================] - 32s 1s/step - loss: 0.7100 - accuracy: 0.7307 - val_loss: 0.9405 - val_accuracy: 0.6633\n",
            "Epoch 34/50\n",
            "27/27 [==============================] - 31s 1s/step - loss: 0.6749 - accuracy: 0.7470 - val_loss: 0.9109 - val_accuracy: 0.6757\n",
            "Epoch 35/50\n",
            "27/27 [==============================] - 32s 1s/step - loss: 0.6720 - accuracy: 0.7436 - val_loss: 0.9286 - val_accuracy: 0.6689\n",
            "Epoch 36/50\n",
            "27/27 [==============================] - 31s 1s/step - loss: 0.6760 - accuracy: 0.7428 - val_loss: 0.8654 - val_accuracy: 0.6734\n",
            "Epoch 37/50\n",
            "27/27 [==============================] - 32s 1s/step - loss: 0.6339 - accuracy: 0.7568 - val_loss: 0.8873 - val_accuracy: 0.6903\n",
            "Epoch 38/50\n",
            "27/27 [==============================] - 30s 1s/step - loss: 0.6224 - accuracy: 0.7666 - val_loss: 0.8578 - val_accuracy: 0.7038\n",
            "Epoch 39/50\n",
            "27/27 [==============================] - 31s 1s/step - loss: 0.6181 - accuracy: 0.7725 - val_loss: 0.8938 - val_accuracy: 0.6791\n",
            "Epoch 40/50\n",
            "27/27 [==============================] - 30s 1s/step - loss: 0.6013 - accuracy: 0.7697 - val_loss: 0.9564 - val_accuracy: 0.6689\n",
            "Epoch 41/50\n",
            "27/27 [==============================] - 31s 1s/step - loss: 0.6110 - accuracy: 0.7787 - val_loss: 0.8775 - val_accuracy: 0.6914\n",
            "Epoch 42/50\n",
            "27/27 [==============================] - 31s 1s/step - loss: 0.5843 - accuracy: 0.7801 - val_loss: 0.9261 - val_accuracy: 0.6723\n",
            "Epoch 43/50\n",
            "27/27 [==============================] - 31s 1s/step - loss: 0.5834 - accuracy: 0.7838 - val_loss: 0.9035 - val_accuracy: 0.6948\n",
            "Epoch 44/50\n",
            "27/27 [==============================] - 32s 1s/step - loss: 0.5804 - accuracy: 0.7905 - val_loss: 0.9025 - val_accuracy: 0.6948\n",
            "Epoch 45/50\n",
            "27/27 [==============================] - 30s 1s/step - loss: 0.5695 - accuracy: 0.7944 - val_loss: 0.8461 - val_accuracy: 0.7005\n",
            "Epoch 46/50\n",
            "27/27 [==============================] - 32s 1s/step - loss: 0.5656 - accuracy: 0.7852 - val_loss: 0.8715 - val_accuracy: 0.7128\n",
            "Epoch 47/50\n",
            "27/27 [==============================] - 30s 1s/step - loss: 0.5342 - accuracy: 0.8045 - val_loss: 0.8742 - val_accuracy: 0.6993\n",
            "Epoch 48/50\n",
            "27/27 [==============================] - 31s 1s/step - loss: 0.5178 - accuracy: 0.8127 - val_loss: 1.0111 - val_accuracy: 0.6779\n",
            "Epoch 49/50\n",
            "27/27 [==============================] - 31s 1s/step - loss: 0.5460 - accuracy: 0.8060 - val_loss: 0.9324 - val_accuracy: 0.6914\n",
            "Epoch 50/50\n",
            "27/27 [==============================] - 31s 1s/step - loss: 0.5281 - accuracy: 0.8051 - val_loss: 1.0539 - val_accuracy: 0.6768\n"
          ]
        }
      ]
    },
    {
      "cell_type": "code",
      "source": [
        "acc = history.history['accuracy']\n",
        "val_acc = history.history['val_accuracy']\n",
        "\n",
        "epochs = range(len(acc))\n",
        "\n",
        "plt.plot(epochs, acc, 'r', label='Training accuracy')\n",
        "plt.plot(epochs, val_acc, 'b', label='Validation accuracy')\n",
        "\n",
        "plt.xlabel('Epochs')\n",
        "plt.ylabel('Accuracy')\n",
        "plt.title('Training and validation accuracy')\n",
        "plt.legend(loc=4)\n",
        "plt.grid(axis='both')\n",
        "\n",
        "plt.show() "
      ],
      "metadata": {
        "colab": {
          "base_uri": "https://localhost:8080/",
          "height": 295
        },
        "id": "qDLxoYDxMA5-",
        "outputId": "6a170ecd-65ea-4f96-a5cd-c57cfe3ae5a0"
      },
      "execution_count": 30,
      "outputs": [
        {
          "output_type": "display_data",
          "data": {
            "text/plain": [
              "<Figure size 432x288 with 1 Axes>"
            ],
            "image/png": "[encoded data removed]"
          },
          "metadata": {
            "needs_background": "light"
          }
        }
      ]
    }
  ]
}